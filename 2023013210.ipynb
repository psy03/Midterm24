{
  "nbformat": 4,
  "nbformat_minor": 0,
  "metadata": {
    "colab": {
      "provenance": [],
      "authorship_tag": "ABX9TyNv0P2BZKmTZ5LgfIrI69re",
      "include_colab_link": true
    },
    "kernelspec": {
      "name": "python3",
      "display_name": "Python 3"
    },
    "language_info": {
      "name": "python"
    }
  },
  "cells": [
    {
      "cell_type": "markdown",
      "metadata": {
        "id": "view-in-github",
        "colab_type": "text"
      },
      "source": [
        "<a href=\"https://colab.research.google.com/github/psy03/Midterm24/blob/main/2023013210.ipynb\" target=\"_parent\"><img src=\"https://colab.research.google.com/assets/colab-badge.svg\" alt=\"Open In Colab\"/></a>"
      ]
    },
    {
      "cell_type": "markdown",
      "source": [
        "\n",
        "Midterm 2024: Park Soyeon\n",
        "```\n",
        "# 코드로 형식 지정됨\n",
        "```\n",
        "\n"
      ],
      "metadata": {
        "id": "-OwrvDTOZ0U4"
      }
    },
    {
      "cell_type": "code",
      "source": [
        "print('5'+'7')"
      ],
      "metadata": {
        "colab": {
          "base_uri": "https://localhost:8080/"
        },
        "id": "Nny_2VXWaMeP",
        "outputId": "00677061-99d5-4c70-baf5-e2d36d4014af"
      },
      "execution_count": 1,
      "outputs": [
        {
          "output_type": "stream",
          "name": "stdout",
          "text": [
            "57\n"
          ]
        }
      ]
    },
    {
      "cell_type": "code",
      "source": [
        "print('5'*3+'7')"
      ],
      "metadata": {
        "colab": {
          "base_uri": "https://localhost:8080/"
        },
        "id": "r_SKH8vEbLsN",
        "outputId": "7f722be2-6898-4ed8-d05a-3b151b26e209"
      },
      "execution_count": 7,
      "outputs": [
        {
          "output_type": "stream",
          "name": "stdout",
          "text": [
            "5557\n"
          ]
        }
      ]
    },
    {
      "cell_type": "code",
      "source": [
        "num=5+3.2\n",
        "print(num)"
      ],
      "metadata": {
        "colab": {
          "base_uri": "https://localhost:8080/"
        },
        "id": "JkFu0OAqbSk9",
        "outputId": "f82791fe-8719-4160-fd34-358c73323b1b"
      },
      "execution_count": 8,
      "outputs": [
        {
          "output_type": "stream",
          "name": "stdout",
          "text": [
            "8.2\n"
          ]
        }
      ]
    },
    {
      "cell_type": "markdown",
      "source": [
        "##Variable Question"
      ],
      "metadata": {
        "id": "r8NJF8Lgb6TV"
      }
    },
    {
      "cell_type": "code",
      "source": [
        "def Name=mary,Bornin=1998,Hometown=Ohio\n",
        "\n",
        "print(\"Hello, my name is\",\"Name\")"
      ],
      "metadata": {
        "colab": {
          "base_uri": "https://localhost:8080/",
          "height": 110
        },
        "id": "A3J62qHJgkZi",
        "outputId": "135ef19e-3d34-4f14-fb38-83d8a801f34f"
      },
      "execution_count": 79,
      "outputs": [
        {
          "output_type": "error",
          "ename": "SyntaxError",
          "evalue": "invalid syntax (<ipython-input-79-dc15f3a376d6>, line 1)",
          "traceback": [
            "\u001b[0;36m  File \u001b[0;32m\"<ipython-input-79-dc15f3a376d6>\"\u001b[0;36m, line \u001b[0;32m1\u001b[0m\n\u001b[0;31m    def Name=mary,Bornin=1998,Hometown=Ohio\u001b[0m\n\u001b[0m            ^\u001b[0m\n\u001b[0;31mSyntaxError\u001b[0m\u001b[0;31m:\u001b[0m invalid syntax\n"
          ]
        }
      ]
    },
    {
      "cell_type": "markdown",
      "source": [
        "##Name question"
      ],
      "metadata": {
        "id": "MNGLi-y-ghwi"
      }
    },
    {
      "cell_type": "code",
      "source": [
        "#name question\n",
        "x=\"My name is\"\n",
        "y=\"Soyeon\"\n",
        "print(x,y,'.')"
      ],
      "metadata": {
        "colab": {
          "base_uri": "https://localhost:8080/"
        },
        "id": "EIjFHs3-gjuZ",
        "outputId": "55395fdb-480f-4b50-e0d2-489dce53b652"
      },
      "execution_count": 45,
      "outputs": [
        {
          "output_type": "stream",
          "name": "stdout",
          "text": [
            "My name is Soyeon .\n"
          ]
        }
      ]
    },
    {
      "cell_type": "markdown",
      "source": [
        "##Index Question"
      ],
      "metadata": {
        "id": "c_FNvglei5mA"
      }
    },
    {
      "cell_type": "code",
      "source": [],
      "metadata": {
        "id": "FPKYFnAci78A"
      },
      "execution_count": null,
      "outputs": []
    },
    {
      "cell_type": "markdown",
      "source": [
        "##GTTS Question"
      ],
      "metadata": {
        "id": "WKKB95frjmYw"
      }
    },
    {
      "cell_type": "code",
      "source": [],
      "metadata": {
        "id": "MnyUQf8mjoYA"
      },
      "execution_count": null,
      "outputs": []
    },
    {
      "cell_type": "markdown",
      "source": [
        "##Dictionary Question"
      ],
      "metadata": {
        "id": "e5LEwnp7j2NX"
      }
    },
    {
      "cell_type": "code",
      "source": [
        "grades_dict{'Bob':'80', 'Jack' : '1', 'Joe' : '1'}\n",
        "print(Bob)"
      ],
      "metadata": {
        "colab": {
          "base_uri": "https://localhost:8080/",
          "height": 110
        },
        "id": "PUr_Cx7hj34o",
        "outputId": "0e06ff09-cedc-4d46-fa24-7189e99d051e"
      },
      "execution_count": 51,
      "outputs": [
        {
          "output_type": "error",
          "ename": "SyntaxError",
          "evalue": "invalid syntax (<ipython-input-51-4375401ce101>, line 1)",
          "traceback": [
            "\u001b[0;36m  File \u001b[0;32m\"<ipython-input-51-4375401ce101>\"\u001b[0;36m, line \u001b[0;32m1\u001b[0m\n\u001b[0;31m    grades_dict{'Bob':'80', 'Jack' : '1', 'Joe' : '1'}\u001b[0m\n\u001b[0m               ^\u001b[0m\n\u001b[0;31mSyntaxError\u001b[0m\u001b[0;31m:\u001b[0m invalid syntax\n"
          ]
        }
      ]
    },
    {
      "cell_type": "markdown",
      "source": [
        "##Function Question"
      ],
      "metadata": {
        "id": "pJqqiW8Kk7ZW"
      }
    },
    {
      "cell_type": "code",
      "source": [
        "def division(x, y):\n",
        "  return x / y\n",
        "\n",
        "result = division(20,4)\n",
        "print(result )"
      ],
      "metadata": {
        "colab": {
          "base_uri": "https://localhost:8080/"
        },
        "id": "J9sMANEMk9MW",
        "outputId": "849b67e2-3f96-4257-f0c9-1bceab1254ce"
      },
      "execution_count": 61,
      "outputs": [
        {
          "output_type": "stream",
          "name": "stdout",
          "text": [
            "5.0\n"
          ]
        }
      ]
    }
  ]
}