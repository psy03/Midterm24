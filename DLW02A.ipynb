{
  "nbformat": 4,
  "nbformat_minor": 0,
  "metadata": {
    "colab": {
      "provenance": [],
      "include_colab_link": true
    },
    "kernelspec": {
      "name": "python3",
      "display_name": "Python 3"
    },
    "language_info": {
      "name": "python"
    },
    "widgets": {
      "application/vnd.jupyter.widget-state+json": {
        "67f04ece21da4580a992661d4e6e2a10": {
          "model_module": "@jupyter-widgets/output",
          "model_name": "OutputModel",
          "model_module_version": "1.0.0",
          "state": {
            "_dom_classes": [],
            "_model_module": "@jupyter-widgets/output",
            "_model_module_version": "1.0.0",
            "_model_name": "OutputModel",
            "_view_count": null,
            "_view_module": "@jupyter-widgets/output",
            "_view_module_version": "1.0.0",
            "_view_name": "OutputView",
            "layout": "IPY_MODEL_822c24af9e694d7ba3fd50d1f518fc37",
            "msg_id": "",
            "outputs": []
          }
        },
        "822c24af9e694d7ba3fd50d1f518fc37": {
          "model_module": "@jupyter-widgets/base",
          "model_name": "LayoutModel",
          "model_module_version": "1.2.0",
          "state": {
            "_model_module": "@jupyter-widgets/base",
            "_model_module_version": "1.2.0",
            "_model_name": "LayoutModel",
            "_view_count": null,
            "_view_module": "@jupyter-widgets/base",
            "_view_module_version": "1.2.0",
            "_view_name": "LayoutView",
            "align_content": null,
            "align_items": null,
            "align_self": null,
            "border": null,
            "bottom": null,
            "display": null,
            "flex": null,
            "flex_flow": null,
            "grid_area": null,
            "grid_auto_columns": null,
            "grid_auto_flow": null,
            "grid_auto_rows": null,
            "grid_column": null,
            "grid_gap": null,
            "grid_row": null,
            "grid_template_areas": null,
            "grid_template_columns": null,
            "grid_template_rows": null,
            "height": null,
            "justify_content": null,
            "justify_items": null,
            "left": null,
            "margin": null,
            "max_height": null,
            "max_width": null,
            "min_height": null,
            "min_width": null,
            "object_fit": null,
            "object_position": null,
            "order": null,
            "overflow": null,
            "overflow_x": null,
            "overflow_y": null,
            "padding": null,
            "right": null,
            "top": null,
            "visibility": null,
            "width": null
          }
        },
        "08ddb2ded32b4015bb9a19d3c8f77de3": {
          "model_module": "@jupyter-widgets/controls",
          "model_name": "VBoxModel",
          "model_module_version": "1.5.0",
          "state": {
            "_dom_classes": [],
            "_model_module": "@jupyter-widgets/controls",
            "_model_module_version": "1.5.0",
            "_model_name": "VBoxModel",
            "_view_count": null,
            "_view_module": "@jupyter-widgets/controls",
            "_view_module_version": "1.5.0",
            "_view_name": "VBoxView",
            "box_style": "",
            "children": [
              "IPY_MODEL_0ab4cb7de48c44deb45bdf95904b5ab8",
              "IPY_MODEL_5bc67ee638304e3ba9d1380eb68fd122",
              "IPY_MODEL_7109b164f6ec4e80a2536974f2128f87",
              "IPY_MODEL_8946fbb0f614415787e9c449e154b496",
              "IPY_MODEL_1e92170437ed4f8397141c5fc5f8e512",
              "IPY_MODEL_353082a29b284fc3b84f91e35503df90"
            ],
            "layout": "IPY_MODEL_40ccb1727e894212ba66b14e8fd4ba4a"
          }
        },
        "0ab4cb7de48c44deb45bdf95904b5ab8": {
          "model_module": "@jupyter-widgets/controls",
          "model_name": "TextModel",
          "model_module_version": "1.5.0",
          "state": {
            "_dom_classes": [],
            "_model_module": "@jupyter-widgets/controls",
            "_model_module_version": "1.5.0",
            "_model_name": "TextModel",
            "_view_count": null,
            "_view_module": "@jupyter-widgets/controls",
            "_view_module_version": "1.5.0",
            "_view_name": "TextView",
            "continuous_update": true,
            "description": "Calculation:",
            "description_tooltip": null,
            "disabled": false,
            "layout": "IPY_MODEL_2011ef356aa04151a660b9d02bccdada",
            "placeholder": "Type something",
            "style": "IPY_MODEL_e70bead2c11e41b6ab112bfe0f86b519",
            "value": ""
          }
        },
        "5bc67ee638304e3ba9d1380eb68fd122": {
          "model_module": "@jupyter-widgets/controls",
          "model_name": "HBoxModel",
          "model_module_version": "1.5.0",
          "state": {
            "_dom_classes": [],
            "_model_module": "@jupyter-widgets/controls",
            "_model_module_version": "1.5.0",
            "_model_name": "HBoxModel",
            "_view_count": null,
            "_view_module": "@jupyter-widgets/controls",
            "_view_module_version": "1.5.0",
            "_view_name": "HBoxView",
            "box_style": "",
            "children": [
              "IPY_MODEL_31a3bfb51c504018a1a181027fc4067e",
              "IPY_MODEL_14be0f0db4074ad5bcc6d04036f4ae3a",
              "IPY_MODEL_8fef31f2d43d47fa8dfb3dbe29c1fa7c",
              "IPY_MODEL_92ff99cf7e36489896eb3274bb25f791"
            ],
            "layout": "IPY_MODEL_941c1b34f8a94f76954a940fd61fa7c7"
          }
        },
        "7109b164f6ec4e80a2536974f2128f87": {
          "model_module": "@jupyter-widgets/controls",
          "model_name": "HBoxModel",
          "model_module_version": "1.5.0",
          "state": {
            "_dom_classes": [],
            "_model_module": "@jupyter-widgets/controls",
            "_model_module_version": "1.5.0",
            "_model_name": "HBoxModel",
            "_view_count": null,
            "_view_module": "@jupyter-widgets/controls",
            "_view_module_version": "1.5.0",
            "_view_name": "HBoxView",
            "box_style": "",
            "children": [
              "IPY_MODEL_48245725f04d45c2a7e800e7fb6886c3",
              "IPY_MODEL_c1c740a63098463ba2d182e1ce54f62e",
              "IPY_MODEL_a4f9c58d4dc048d3918156a7af454f20",
              "IPY_MODEL_b15c405e9d2d4dfd9d5e4d2ac7e6183c"
            ],
            "layout": "IPY_MODEL_711a7fcc647f48a685b917de4b48ebbe"
          }
        },
        "8946fbb0f614415787e9c449e154b496": {
          "model_module": "@jupyter-widgets/controls",
          "model_name": "HBoxModel",
          "model_module_version": "1.5.0",
          "state": {
            "_dom_classes": [],
            "_model_module": "@jupyter-widgets/controls",
            "_model_module_version": "1.5.0",
            "_model_name": "HBoxModel",
            "_view_count": null,
            "_view_module": "@jupyter-widgets/controls",
            "_view_module_version": "1.5.0",
            "_view_name": "HBoxView",
            "box_style": "",
            "children": [
              "IPY_MODEL_09eec7fcb7184213a9339b525e728803",
              "IPY_MODEL_0011d44ffa3845698ef8ae98e15fa60f",
              "IPY_MODEL_5635f0f863294114aab8b320d8ab6212",
              "IPY_MODEL_985f7c89f86b436ab6e8b7f5769afd6d"
            ],
            "layout": "IPY_MODEL_cc0f8307515141ae9d4f85ffdd2ac8da"
          }
        },
        "1e92170437ed4f8397141c5fc5f8e512": {
          "model_module": "@jupyter-widgets/controls",
          "model_name": "HBoxModel",
          "model_module_version": "1.5.0",
          "state": {
            "_dom_classes": [],
            "_model_module": "@jupyter-widgets/controls",
            "_model_module_version": "1.5.0",
            "_model_name": "HBoxModel",
            "_view_count": null,
            "_view_module": "@jupyter-widgets/controls",
            "_view_module_version": "1.5.0",
            "_view_name": "HBoxView",
            "box_style": "",
            "children": [
              "IPY_MODEL_2ee3f2293c184a43a526cc0470a96db0",
              "IPY_MODEL_4b397070311f4e0bac8a02dcc55c14b1",
              "IPY_MODEL_9c317c3e7dab4b14999e21be0281e328",
              "IPY_MODEL_7c2be0636f5e4437b446fffe0dd29954"
            ],
            "layout": "IPY_MODEL_946e86243606417c85c12dcf094f269b"
          }
        },
        "353082a29b284fc3b84f91e35503df90": {
          "model_module": "@jupyter-widgets/controls",
          "model_name": "HBoxModel",
          "model_module_version": "1.5.0",
          "state": {
            "_dom_classes": [],
            "_model_module": "@jupyter-widgets/controls",
            "_model_module_version": "1.5.0",
            "_model_name": "HBoxModel",
            "_view_count": null,
            "_view_module": "@jupyter-widgets/controls",
            "_view_module_version": "1.5.0",
            "_view_name": "HBoxView",
            "box_style": "",
            "children": [
              "IPY_MODEL_34888fce301245eaa0c2cd1be47bf13d"
            ],
            "layout": "IPY_MODEL_4cb6864a7aa24199a9592f80446503ff"
          }
        },
        "40ccb1727e894212ba66b14e8fd4ba4a": {
          "model_module": "@jupyter-widgets/base",
          "model_name": "LayoutModel",
          "model_module_version": "1.2.0",
          "state": {
            "_model_module": "@jupyter-widgets/base",
            "_model_module_version": "1.2.0",
            "_model_name": "LayoutModel",
            "_view_count": null,
            "_view_module": "@jupyter-widgets/base",
            "_view_module_version": "1.2.0",
            "_view_name": "LayoutView",
            "align_content": null,
            "align_items": null,
            "align_self": null,
            "border": null,
            "bottom": null,
            "display": null,
            "flex": null,
            "flex_flow": null,
            "grid_area": null,
            "grid_auto_columns": null,
            "grid_auto_flow": null,
            "grid_auto_rows": null,
            "grid_column": null,
            "grid_gap": null,
            "grid_row": null,
            "grid_template_areas": null,
            "grid_template_columns": null,
            "grid_template_rows": null,
            "height": null,
            "justify_content": null,
            "justify_items": null,
            "left": null,
            "margin": null,
            "max_height": null,
            "max_width": null,
            "min_height": null,
            "min_width": null,
            "object_fit": null,
            "object_position": null,
            "order": null,
            "overflow": null,
            "overflow_x": null,
            "overflow_y": null,
            "padding": null,
            "right": null,
            "top": null,
            "visibility": null,
            "width": null
          }
        },
        "2011ef356aa04151a660b9d02bccdada": {
          "model_module": "@jupyter-widgets/base",
          "model_name": "LayoutModel",
          "model_module_version": "1.2.0",
          "state": {
            "_model_module": "@jupyter-widgets/base",
            "_model_module_version": "1.2.0",
            "_model_name": "LayoutModel",
            "_view_count": null,
            "_view_module": "@jupyter-widgets/base",
            "_view_module_version": "1.2.0",
            "_view_name": "LayoutView",
            "align_content": null,
            "align_items": null,
            "align_self": null,
            "border": null,
            "bottom": null,
            "display": null,
            "flex": null,
            "flex_flow": null,
            "grid_area": null,
            "grid_auto_columns": null,
            "grid_auto_flow": null,
            "grid_auto_rows": null,
            "grid_column": null,
            "grid_gap": null,
            "grid_row": null,
            "grid_template_areas": null,
            "grid_template_columns": null,
            "grid_template_rows": null,
            "height": null,
            "justify_content": null,
            "justify_items": null,
            "left": null,
            "margin": null,
            "max_height": null,
            "max_width": null,
            "min_height": null,
            "min_width": null,
            "object_fit": null,
            "object_position": null,
            "order": null,
            "overflow": null,
            "overflow_x": null,
            "overflow_y": null,
            "padding": null,
            "right": null,
            "top": null,
            "visibility": null,
            "width": null
          }
        },
        "e70bead2c11e41b6ab112bfe0f86b519": {
          "model_module": "@jupyter-widgets/controls",
          "model_name": "DescriptionStyleModel",
          "model_module_version": "1.5.0",
          "state": {
            "_model_module": "@jupyter-widgets/controls",
            "_model_module_version": "1.5.0",
            "_model_name": "DescriptionStyleModel",
            "_view_count": null,
            "_view_module": "@jupyter-widgets/base",
            "_view_module_version": "1.2.0",
            "_view_name": "StyleView",
            "description_width": ""
          }
        },
        "31a3bfb51c504018a1a181027fc4067e": {
          "model_module": "@jupyter-widgets/controls",
          "model_name": "ButtonModel",
          "model_module_version": "1.5.0",
          "state": {
            "_dom_classes": [],
            "_model_module": "@jupyter-widgets/controls",
            "_model_module_version": "1.5.0",
            "_model_name": "ButtonModel",
            "_view_count": null,
            "_view_module": "@jupyter-widgets/controls",
            "_view_module_version": "1.5.0",
            "_view_name": "ButtonView",
            "button_style": "",
            "description": "7",
            "disabled": false,
            "icon": "",
            "layout": "IPY_MODEL_54b7f1d64d4b40b1a77486280cea3014",
            "style": "IPY_MODEL_8515ad39543542fb86f823f044967b18",
            "tooltip": ""
          }
        },
        "14be0f0db4074ad5bcc6d04036f4ae3a": {
          "model_module": "@jupyter-widgets/controls",
          "model_name": "ButtonModel",
          "model_module_version": "1.5.0",
          "state": {
            "_dom_classes": [],
            "_model_module": "@jupyter-widgets/controls",
            "_model_module_version": "1.5.0",
            "_model_name": "ButtonModel",
            "_view_count": null,
            "_view_module": "@jupyter-widgets/controls",
            "_view_module_version": "1.5.0",
            "_view_name": "ButtonView",
            "button_style": "",
            "description": "8",
            "disabled": false,
            "icon": "",
            "layout": "IPY_MODEL_54b7f1d64d4b40b1a77486280cea3014",
            "style": "IPY_MODEL_ee82fc994db44dc0ba68e67936a1724f",
            "tooltip": ""
          }
        },
        "8fef31f2d43d47fa8dfb3dbe29c1fa7c": {
          "model_module": "@jupyter-widgets/controls",
          "model_name": "ButtonModel",
          "model_module_version": "1.5.0",
          "state": {
            "_dom_classes": [],
            "_model_module": "@jupyter-widgets/controls",
            "_model_module_version": "1.5.0",
            "_model_name": "ButtonModel",
            "_view_count": null,
            "_view_module": "@jupyter-widgets/controls",
            "_view_module_version": "1.5.0",
            "_view_name": "ButtonView",
            "button_style": "",
            "description": "9",
            "disabled": false,
            "icon": "",
            "layout": "IPY_MODEL_54b7f1d64d4b40b1a77486280cea3014",
            "style": "IPY_MODEL_e306c033393243bb86ce0fec9cba381e",
            "tooltip": ""
          }
        },
        "92ff99cf7e36489896eb3274bb25f791": {
          "model_module": "@jupyter-widgets/controls",
          "model_name": "ButtonModel",
          "model_module_version": "1.5.0",
          "state": {
            "_dom_classes": [],
            "_model_module": "@jupyter-widgets/controls",
            "_model_module_version": "1.5.0",
            "_model_name": "ButtonModel",
            "_view_count": null,
            "_view_module": "@jupyter-widgets/controls",
            "_view_module_version": "1.5.0",
            "_view_name": "ButtonView",
            "button_style": "",
            "description": "÷",
            "disabled": false,
            "icon": "",
            "layout": "IPY_MODEL_54b7f1d64d4b40b1a77486280cea3014",
            "style": "IPY_MODEL_b77843cc2e1c40bfb7b354cfcbc3ff06",
            "tooltip": ""
          }
        },
        "941c1b34f8a94f76954a940fd61fa7c7": {
          "model_module": "@jupyter-widgets/base",
          "model_name": "LayoutModel",
          "model_module_version": "1.2.0",
          "state": {
            "_model_module": "@jupyter-widgets/base",
            "_model_module_version": "1.2.0",
            "_model_name": "LayoutModel",
            "_view_count": null,
            "_view_module": "@jupyter-widgets/base",
            "_view_module_version": "1.2.0",
            "_view_name": "LayoutView",
            "align_content": null,
            "align_items": null,
            "align_self": null,
            "border": null,
            "bottom": null,
            "display": null,
            "flex": null,
            "flex_flow": null,
            "grid_area": null,
            "grid_auto_columns": null,
            "grid_auto_flow": null,
            "grid_auto_rows": null,
            "grid_column": null,
            "grid_gap": null,
            "grid_row": null,
            "grid_template_areas": null,
            "grid_template_columns": null,
            "grid_template_rows": null,
            "height": null,
            "justify_content": null,
            "justify_items": null,
            "left": null,
            "margin": null,
            "max_height": null,
            "max_width": null,
            "min_height": null,
            "min_width": null,
            "object_fit": null,
            "object_position": null,
            "order": null,
            "overflow": null,
            "overflow_x": null,
            "overflow_y": null,
            "padding": null,
            "right": null,
            "top": null,
            "visibility": null,
            "width": null
          }
        },
        "48245725f04d45c2a7e800e7fb6886c3": {
          "model_module": "@jupyter-widgets/controls",
          "model_name": "ButtonModel",
          "model_module_version": "1.5.0",
          "state": {
            "_dom_classes": [],
            "_model_module": "@jupyter-widgets/controls",
            "_model_module_version": "1.5.0",
            "_model_name": "ButtonModel",
            "_view_count": null,
            "_view_module": "@jupyter-widgets/controls",
            "_view_module_version": "1.5.0",
            "_view_name": "ButtonView",
            "button_style": "",
            "description": "4",
            "disabled": false,
            "icon": "",
            "layout": "IPY_MODEL_54b7f1d64d4b40b1a77486280cea3014",
            "style": "IPY_MODEL_cbdfe5033dc64e5ba8dee4945cc64353",
            "tooltip": ""
          }
        },
        "c1c740a63098463ba2d182e1ce54f62e": {
          "model_module": "@jupyter-widgets/controls",
          "model_name": "ButtonModel",
          "model_module_version": "1.5.0",
          "state": {
            "_dom_classes": [],
            "_model_module": "@jupyter-widgets/controls",
            "_model_module_version": "1.5.0",
            "_model_name": "ButtonModel",
            "_view_count": null,
            "_view_module": "@jupyter-widgets/controls",
            "_view_module_version": "1.5.0",
            "_view_name": "ButtonView",
            "button_style": "",
            "description": "5",
            "disabled": false,
            "icon": "",
            "layout": "IPY_MODEL_54b7f1d64d4b40b1a77486280cea3014",
            "style": "IPY_MODEL_5a10840501c94a3a993c5654a405e243",
            "tooltip": ""
          }
        },
        "a4f9c58d4dc048d3918156a7af454f20": {
          "model_module": "@jupyter-widgets/controls",
          "model_name": "ButtonModel",
          "model_module_version": "1.5.0",
          "state": {
            "_dom_classes": [],
            "_model_module": "@jupyter-widgets/controls",
            "_model_module_version": "1.5.0",
            "_model_name": "ButtonModel",
            "_view_count": null,
            "_view_module": "@jupyter-widgets/controls",
            "_view_module_version": "1.5.0",
            "_view_name": "ButtonView",
            "button_style": "",
            "description": "6",
            "disabled": false,
            "icon": "",
            "layout": "IPY_MODEL_54b7f1d64d4b40b1a77486280cea3014",
            "style": "IPY_MODEL_f5d486fff7dd4a199a37641e8621f858",
            "tooltip": ""
          }
        },
        "b15c405e9d2d4dfd9d5e4d2ac7e6183c": {
          "model_module": "@jupyter-widgets/controls",
          "model_name": "ButtonModel",
          "model_module_version": "1.5.0",
          "state": {
            "_dom_classes": [],
            "_model_module": "@jupyter-widgets/controls",
            "_model_module_version": "1.5.0",
            "_model_name": "ButtonModel",
            "_view_count": null,
            "_view_module": "@jupyter-widgets/controls",
            "_view_module_version": "1.5.0",
            "_view_name": "ButtonView",
            "button_style": "",
            "description": "×",
            "disabled": false,
            "icon": "",
            "layout": "IPY_MODEL_54b7f1d64d4b40b1a77486280cea3014",
            "style": "IPY_MODEL_cb2baa7921e64b3192d911a87ccd8fc9",
            "tooltip": ""
          }
        },
        "711a7fcc647f48a685b917de4b48ebbe": {
          "model_module": "@jupyter-widgets/base",
          "model_name": "LayoutModel",
          "model_module_version": "1.2.0",
          "state": {
            "_model_module": "@jupyter-widgets/base",
            "_model_module_version": "1.2.0",
            "_model_name": "LayoutModel",
            "_view_count": null,
            "_view_module": "@jupyter-widgets/base",
            "_view_module_version": "1.2.0",
            "_view_name": "LayoutView",
            "align_content": null,
            "align_items": null,
            "align_self": null,
            "border": null,
            "bottom": null,
            "display": null,
            "flex": null,
            "flex_flow": null,
            "grid_area": null,
            "grid_auto_columns": null,
            "grid_auto_flow": null,
            "grid_auto_rows": null,
            "grid_column": null,
            "grid_gap": null,
            "grid_row": null,
            "grid_template_areas": null,
            "grid_template_columns": null,
            "grid_template_rows": null,
            "height": null,
            "justify_content": null,
            "justify_items": null,
            "left": null,
            "margin": null,
            "max_height": null,
            "max_width": null,
            "min_height": null,
            "min_width": null,
            "object_fit": null,
            "object_position": null,
            "order": null,
            "overflow": null,
            "overflow_x": null,
            "overflow_y": null,
            "padding": null,
            "right": null,
            "top": null,
            "visibility": null,
            "width": null
          }
        },
        "09eec7fcb7184213a9339b525e728803": {
          "model_module": "@jupyter-widgets/controls",
          "model_name": "ButtonModel",
          "model_module_version": "1.5.0",
          "state": {
            "_dom_classes": [],
            "_model_module": "@jupyter-widgets/controls",
            "_model_module_version": "1.5.0",
            "_model_name": "ButtonModel",
            "_view_count": null,
            "_view_module": "@jupyter-widgets/controls",
            "_view_module_version": "1.5.0",
            "_view_name": "ButtonView",
            "button_style": "",
            "description": "1",
            "disabled": false,
            "icon": "",
            "layout": "IPY_MODEL_54b7f1d64d4b40b1a77486280cea3014",
            "style": "IPY_MODEL_d6f2478883e64f92a1d98cb6f1958df4",
            "tooltip": ""
          }
        },
        "0011d44ffa3845698ef8ae98e15fa60f": {
          "model_module": "@jupyter-widgets/controls",
          "model_name": "ButtonModel",
          "model_module_version": "1.5.0",
          "state": {
            "_dom_classes": [],
            "_model_module": "@jupyter-widgets/controls",
            "_model_module_version": "1.5.0",
            "_model_name": "ButtonModel",
            "_view_count": null,
            "_view_module": "@jupyter-widgets/controls",
            "_view_module_version": "1.5.0",
            "_view_name": "ButtonView",
            "button_style": "",
            "description": "2",
            "disabled": false,
            "icon": "",
            "layout": "IPY_MODEL_54b7f1d64d4b40b1a77486280cea3014",
            "style": "IPY_MODEL_205485b66d97492b9bc395516df173e1",
            "tooltip": ""
          }
        },
        "5635f0f863294114aab8b320d8ab6212": {
          "model_module": "@jupyter-widgets/controls",
          "model_name": "ButtonModel",
          "model_module_version": "1.5.0",
          "state": {
            "_dom_classes": [],
            "_model_module": "@jupyter-widgets/controls",
            "_model_module_version": "1.5.0",
            "_model_name": "ButtonModel",
            "_view_count": null,
            "_view_module": "@jupyter-widgets/controls",
            "_view_module_version": "1.5.0",
            "_view_name": "ButtonView",
            "button_style": "",
            "description": "3",
            "disabled": false,
            "icon": "",
            "layout": "IPY_MODEL_54b7f1d64d4b40b1a77486280cea3014",
            "style": "IPY_MODEL_387cbd10731346f98c9835ee68425312",
            "tooltip": ""
          }
        },
        "985f7c89f86b436ab6e8b7f5769afd6d": {
          "model_module": "@jupyter-widgets/controls",
          "model_name": "ButtonModel",
          "model_module_version": "1.5.0",
          "state": {
            "_dom_classes": [],
            "_model_module": "@jupyter-widgets/controls",
            "_model_module_version": "1.5.0",
            "_model_name": "ButtonModel",
            "_view_count": null,
            "_view_module": "@jupyter-widgets/controls",
            "_view_module_version": "1.5.0",
            "_view_name": "ButtonView",
            "button_style": "",
            "description": "-",
            "disabled": false,
            "icon": "",
            "layout": "IPY_MODEL_54b7f1d64d4b40b1a77486280cea3014",
            "style": "IPY_MODEL_224eaabe160a476297bc676180817d05",
            "tooltip": ""
          }
        },
        "cc0f8307515141ae9d4f85ffdd2ac8da": {
          "model_module": "@jupyter-widgets/base",
          "model_name": "LayoutModel",
          "model_module_version": "1.2.0",
          "state": {
            "_model_module": "@jupyter-widgets/base",
            "_model_module_version": "1.2.0",
            "_model_name": "LayoutModel",
            "_view_count": null,
            "_view_module": "@jupyter-widgets/base",
            "_view_module_version": "1.2.0",
            "_view_name": "LayoutView",
            "align_content": null,
            "align_items": null,
            "align_self": null,
            "border": null,
            "bottom": null,
            "display": null,
            "flex": null,
            "flex_flow": null,
            "grid_area": null,
            "grid_auto_columns": null,
            "grid_auto_flow": null,
            "grid_auto_rows": null,
            "grid_column": null,
            "grid_gap": null,
            "grid_row": null,
            "grid_template_areas": null,
            "grid_template_columns": null,
            "grid_template_rows": null,
            "height": null,
            "justify_content": null,
            "justify_items": null,
            "left": null,
            "margin": null,
            "max_height": null,
            "max_width": null,
            "min_height": null,
            "min_width": null,
            "object_fit": null,
            "object_position": null,
            "order": null,
            "overflow": null,
            "overflow_x": null,
            "overflow_y": null,
            "padding": null,
            "right": null,
            "top": null,
            "visibility": null,
            "width": null
          }
        },
        "2ee3f2293c184a43a526cc0470a96db0": {
          "model_module": "@jupyter-widgets/controls",
          "model_name": "ButtonModel",
          "model_module_version": "1.5.0",
          "state": {
            "_dom_classes": [],
            "_model_module": "@jupyter-widgets/controls",
            "_model_module_version": "1.5.0",
            "_model_name": "ButtonModel",
            "_view_count": null,
            "_view_module": "@jupyter-widgets/controls",
            "_view_module_version": "1.5.0",
            "_view_name": "ButtonView",
            "button_style": "",
            "description": "0",
            "disabled": false,
            "icon": "",
            "layout": "IPY_MODEL_54b7f1d64d4b40b1a77486280cea3014",
            "style": "IPY_MODEL_f365d06946fd45269753a05c0611d976",
            "tooltip": ""
          }
        },
        "4b397070311f4e0bac8a02dcc55c14b1": {
          "model_module": "@jupyter-widgets/controls",
          "model_name": "ButtonModel",
          "model_module_version": "1.5.0",
          "state": {
            "_dom_classes": [],
            "_model_module": "@jupyter-widgets/controls",
            "_model_module_version": "1.5.0",
            "_model_name": "ButtonModel",
            "_view_count": null,
            "_view_module": "@jupyter-widgets/controls",
            "_view_module_version": "1.5.0",
            "_view_name": "ButtonView",
            "button_style": "",
            "description": ".",
            "disabled": false,
            "icon": "",
            "layout": "IPY_MODEL_54b7f1d64d4b40b1a77486280cea3014",
            "style": "IPY_MODEL_df7dcaa2f9e34f368845e628ecbea092",
            "tooltip": ""
          }
        },
        "9c317c3e7dab4b14999e21be0281e328": {
          "model_module": "@jupyter-widgets/controls",
          "model_name": "ButtonModel",
          "model_module_version": "1.5.0",
          "state": {
            "_dom_classes": [],
            "_model_module": "@jupyter-widgets/controls",
            "_model_module_version": "1.5.0",
            "_model_name": "ButtonModel",
            "_view_count": null,
            "_view_module": "@jupyter-widgets/controls",
            "_view_module_version": "1.5.0",
            "_view_name": "ButtonView",
            "button_style": "",
            "description": "=",
            "disabled": false,
            "icon": "",
            "layout": "IPY_MODEL_54b7f1d64d4b40b1a77486280cea3014",
            "style": "IPY_MODEL_462f61708d9b4616a474656ae3ff8d44",
            "tooltip": ""
          }
        },
        "7c2be0636f5e4437b446fffe0dd29954": {
          "model_module": "@jupyter-widgets/controls",
          "model_name": "ButtonModel",
          "model_module_version": "1.5.0",
          "state": {
            "_dom_classes": [],
            "_model_module": "@jupyter-widgets/controls",
            "_model_module_version": "1.5.0",
            "_model_name": "ButtonModel",
            "_view_count": null,
            "_view_module": "@jupyter-widgets/controls",
            "_view_module_version": "1.5.0",
            "_view_name": "ButtonView",
            "button_style": "",
            "description": "+",
            "disabled": false,
            "icon": "",
            "layout": "IPY_MODEL_54b7f1d64d4b40b1a77486280cea3014",
            "style": "IPY_MODEL_5c2bba7c313f4d53b6b4d76c58889265",
            "tooltip": ""
          }
        },
        "946e86243606417c85c12dcf094f269b": {
          "model_module": "@jupyter-widgets/base",
          "model_name": "LayoutModel",
          "model_module_version": "1.2.0",
          "state": {
            "_model_module": "@jupyter-widgets/base",
            "_model_module_version": "1.2.0",
            "_model_name": "LayoutModel",
            "_view_count": null,
            "_view_module": "@jupyter-widgets/base",
            "_view_module_version": "1.2.0",
            "_view_name": "LayoutView",
            "align_content": null,
            "align_items": null,
            "align_self": null,
            "border": null,
            "bottom": null,
            "display": null,
            "flex": null,
            "flex_flow": null,
            "grid_area": null,
            "grid_auto_columns": null,
            "grid_auto_flow": null,
            "grid_auto_rows": null,
            "grid_column": null,
            "grid_gap": null,
            "grid_row": null,
            "grid_template_areas": null,
            "grid_template_columns": null,
            "grid_template_rows": null,
            "height": null,
            "justify_content": null,
            "justify_items": null,
            "left": null,
            "margin": null,
            "max_height": null,
            "max_width": null,
            "min_height": null,
            "min_width": null,
            "object_fit": null,
            "object_position": null,
            "order": null,
            "overflow": null,
            "overflow_x": null,
            "overflow_y": null,
            "padding": null,
            "right": null,
            "top": null,
            "visibility": null,
            "width": null
          }
        },
        "34888fce301245eaa0c2cd1be47bf13d": {
          "model_module": "@jupyter-widgets/controls",
          "model_name": "ButtonModel",
          "model_module_version": "1.5.0",
          "state": {
            "_dom_classes": [],
            "_model_module": "@jupyter-widgets/controls",
            "_model_module_version": "1.5.0",
            "_model_name": "ButtonModel",
            "_view_count": null,
            "_view_module": "@jupyter-widgets/controls",
            "_view_module_version": "1.5.0",
            "_view_name": "ButtonView",
            "button_style": "",
            "description": "Clear",
            "disabled": false,
            "icon": "",
            "layout": "IPY_MODEL_54b7f1d64d4b40b1a77486280cea3014",
            "style": "IPY_MODEL_119f10b027d9421cbcbedcef62cf0161",
            "tooltip": ""
          }
        },
        "4cb6864a7aa24199a9592f80446503ff": {
          "model_module": "@jupyter-widgets/base",
          "model_name": "LayoutModel",
          "model_module_version": "1.2.0",
          "state": {
            "_model_module": "@jupyter-widgets/base",
            "_model_module_version": "1.2.0",
            "_model_name": "LayoutModel",
            "_view_count": null,
            "_view_module": "@jupyter-widgets/base",
            "_view_module_version": "1.2.0",
            "_view_name": "LayoutView",
            "align_content": null,
            "align_items": null,
            "align_self": null,
            "border": null,
            "bottom": null,
            "display": null,
            "flex": null,
            "flex_flow": null,
            "grid_area": null,
            "grid_auto_columns": null,
            "grid_auto_flow": null,
            "grid_auto_rows": null,
            "grid_column": null,
            "grid_gap": null,
            "grid_row": null,
            "grid_template_areas": null,
            "grid_template_columns": null,
            "grid_template_rows": null,
            "height": null,
            "justify_content": null,
            "justify_items": null,
            "left": null,
            "margin": null,
            "max_height": null,
            "max_width": null,
            "min_height": null,
            "min_width": null,
            "object_fit": null,
            "object_position": null,
            "order": null,
            "overflow": null,
            "overflow_x": null,
            "overflow_y": null,
            "padding": null,
            "right": null,
            "top": null,
            "visibility": null,
            "width": null
          }
        },
        "54b7f1d64d4b40b1a77486280cea3014": {
          "model_module": "@jupyter-widgets/base",
          "model_name": "LayoutModel",
          "model_module_version": "1.2.0",
          "state": {
            "_model_module": "@jupyter-widgets/base",
            "_model_module_version": "1.2.0",
            "_model_name": "LayoutModel",
            "_view_count": null,
            "_view_module": "@jupyter-widgets/base",
            "_view_module_version": "1.2.0",
            "_view_name": "LayoutView",
            "align_content": null,
            "align_items": null,
            "align_self": null,
            "border": null,
            "bottom": null,
            "display": null,
            "flex": null,
            "flex_flow": null,
            "grid_area": null,
            "grid_auto_columns": null,
            "grid_auto_flow": null,
            "grid_auto_rows": null,
            "grid_column": null,
            "grid_gap": null,
            "grid_row": null,
            "grid_template_areas": null,
            "grid_template_columns": null,
            "grid_template_rows": null,
            "height": "75px",
            "justify_content": null,
            "justify_items": null,
            "left": null,
            "margin": "5px",
            "max_height": null,
            "max_width": null,
            "min_height": null,
            "min_width": null,
            "object_fit": null,
            "object_position": null,
            "order": null,
            "overflow": null,
            "overflow_x": null,
            "overflow_y": null,
            "padding": null,
            "right": null,
            "top": null,
            "visibility": null,
            "width": "75px"
          }
        },
        "8515ad39543542fb86f823f044967b18": {
          "model_module": "@jupyter-widgets/controls",
          "model_name": "ButtonStyleModel",
          "model_module_version": "1.5.0",
          "state": {
            "_model_module": "@jupyter-widgets/controls",
            "_model_module_version": "1.5.0",
            "_model_name": "ButtonStyleModel",
            "_view_count": null,
            "_view_module": "@jupyter-widgets/base",
            "_view_module_version": "1.2.0",
            "_view_name": "StyleView",
            "button_color": "orange",
            "font_weight": ""
          }
        },
        "ee82fc994db44dc0ba68e67936a1724f": {
          "model_module": "@jupyter-widgets/controls",
          "model_name": "ButtonStyleModel",
          "model_module_version": "1.5.0",
          "state": {
            "_model_module": "@jupyter-widgets/controls",
            "_model_module_version": "1.5.0",
            "_model_name": "ButtonStyleModel",
            "_view_count": null,
            "_view_module": "@jupyter-widgets/base",
            "_view_module_version": "1.2.0",
            "_view_name": "StyleView",
            "button_color": "orange",
            "font_weight": ""
          }
        },
        "e306c033393243bb86ce0fec9cba381e": {
          "model_module": "@jupyter-widgets/controls",
          "model_name": "ButtonStyleModel",
          "model_module_version": "1.5.0",
          "state": {
            "_model_module": "@jupyter-widgets/controls",
            "_model_module_version": "1.5.0",
            "_model_name": "ButtonStyleModel",
            "_view_count": null,
            "_view_module": "@jupyter-widgets/base",
            "_view_module_version": "1.2.0",
            "_view_name": "StyleView",
            "button_color": "orange",
            "font_weight": ""
          }
        },
        "b77843cc2e1c40bfb7b354cfcbc3ff06": {
          "model_module": "@jupyter-widgets/controls",
          "model_name": "ButtonStyleModel",
          "model_module_version": "1.5.0",
          "state": {
            "_model_module": "@jupyter-widgets/controls",
            "_model_module_version": "1.5.0",
            "_model_name": "ButtonStyleModel",
            "_view_count": null,
            "_view_module": "@jupyter-widgets/base",
            "_view_module_version": "1.2.0",
            "_view_name": "StyleView",
            "button_color": "orange",
            "font_weight": ""
          }
        },
        "cbdfe5033dc64e5ba8dee4945cc64353": {
          "model_module": "@jupyter-widgets/controls",
          "model_name": "ButtonStyleModel",
          "model_module_version": "1.5.0",
          "state": {
            "_model_module": "@jupyter-widgets/controls",
            "_model_module_version": "1.5.0",
            "_model_name": "ButtonStyleModel",
            "_view_count": null,
            "_view_module": "@jupyter-widgets/base",
            "_view_module_version": "1.2.0",
            "_view_name": "StyleView",
            "button_color": "orange",
            "font_weight": ""
          }
        },
        "5a10840501c94a3a993c5654a405e243": {
          "model_module": "@jupyter-widgets/controls",
          "model_name": "ButtonStyleModel",
          "model_module_version": "1.5.0",
          "state": {
            "_model_module": "@jupyter-widgets/controls",
            "_model_module_version": "1.5.0",
            "_model_name": "ButtonStyleModel",
            "_view_count": null,
            "_view_module": "@jupyter-widgets/base",
            "_view_module_version": "1.2.0",
            "_view_name": "StyleView",
            "button_color": "orange",
            "font_weight": ""
          }
        },
        "f5d486fff7dd4a199a37641e8621f858": {
          "model_module": "@jupyter-widgets/controls",
          "model_name": "ButtonStyleModel",
          "model_module_version": "1.5.0",
          "state": {
            "_model_module": "@jupyter-widgets/controls",
            "_model_module_version": "1.5.0",
            "_model_name": "ButtonStyleModel",
            "_view_count": null,
            "_view_module": "@jupyter-widgets/base",
            "_view_module_version": "1.2.0",
            "_view_name": "StyleView",
            "button_color": "orange",
            "font_weight": ""
          }
        },
        "cb2baa7921e64b3192d911a87ccd8fc9": {
          "model_module": "@jupyter-widgets/controls",
          "model_name": "ButtonStyleModel",
          "model_module_version": "1.5.0",
          "state": {
            "_model_module": "@jupyter-widgets/controls",
            "_model_module_version": "1.5.0",
            "_model_name": "ButtonStyleModel",
            "_view_count": null,
            "_view_module": "@jupyter-widgets/base",
            "_view_module_version": "1.2.0",
            "_view_name": "StyleView",
            "button_color": "orange",
            "font_weight": ""
          }
        },
        "d6f2478883e64f92a1d98cb6f1958df4": {
          "model_module": "@jupyter-widgets/controls",
          "model_name": "ButtonStyleModel",
          "model_module_version": "1.5.0",
          "state": {
            "_model_module": "@jupyter-widgets/controls",
            "_model_module_version": "1.5.0",
            "_model_name": "ButtonStyleModel",
            "_view_count": null,
            "_view_module": "@jupyter-widgets/base",
            "_view_module_version": "1.2.0",
            "_view_name": "StyleView",
            "button_color": "orange",
            "font_weight": ""
          }
        },
        "205485b66d97492b9bc395516df173e1": {
          "model_module": "@jupyter-widgets/controls",
          "model_name": "ButtonStyleModel",
          "model_module_version": "1.5.0",
          "state": {
            "_model_module": "@jupyter-widgets/controls",
            "_model_module_version": "1.5.0",
            "_model_name": "ButtonStyleModel",
            "_view_count": null,
            "_view_module": "@jupyter-widgets/base",
            "_view_module_version": "1.2.0",
            "_view_name": "StyleView",
            "button_color": "orange",
            "font_weight": ""
          }
        },
        "387cbd10731346f98c9835ee68425312": {
          "model_module": "@jupyter-widgets/controls",
          "model_name": "ButtonStyleModel",
          "model_module_version": "1.5.0",
          "state": {
            "_model_module": "@jupyter-widgets/controls",
            "_model_module_version": "1.5.0",
            "_model_name": "ButtonStyleModel",
            "_view_count": null,
            "_view_module": "@jupyter-widgets/base",
            "_view_module_version": "1.2.0",
            "_view_name": "StyleView",
            "button_color": "orange",
            "font_weight": ""
          }
        },
        "224eaabe160a476297bc676180817d05": {
          "model_module": "@jupyter-widgets/controls",
          "model_name": "ButtonStyleModel",
          "model_module_version": "1.5.0",
          "state": {
            "_model_module": "@jupyter-widgets/controls",
            "_model_module_version": "1.5.0",
            "_model_name": "ButtonStyleModel",
            "_view_count": null,
            "_view_module": "@jupyter-widgets/base",
            "_view_module_version": "1.2.0",
            "_view_name": "StyleView",
            "button_color": "orange",
            "font_weight": ""
          }
        },
        "f365d06946fd45269753a05c0611d976": {
          "model_module": "@jupyter-widgets/controls",
          "model_name": "ButtonStyleModel",
          "model_module_version": "1.5.0",
          "state": {
            "_model_module": "@jupyter-widgets/controls",
            "_model_module_version": "1.5.0",
            "_model_name": "ButtonStyleModel",
            "_view_count": null,
            "_view_module": "@jupyter-widgets/base",
            "_view_module_version": "1.2.0",
            "_view_name": "StyleView",
            "button_color": "orange",
            "font_weight": ""
          }
        },
        "df7dcaa2f9e34f368845e628ecbea092": {
          "model_module": "@jupyter-widgets/controls",
          "model_name": "ButtonStyleModel",
          "model_module_version": "1.5.0",
          "state": {
            "_model_module": "@jupyter-widgets/controls",
            "_model_module_version": "1.5.0",
            "_model_name": "ButtonStyleModel",
            "_view_count": null,
            "_view_module": "@jupyter-widgets/base",
            "_view_module_version": "1.2.0",
            "_view_name": "StyleView",
            "button_color": "orange",
            "font_weight": ""
          }
        },
        "462f61708d9b4616a474656ae3ff8d44": {
          "model_module": "@jupyter-widgets/controls",
          "model_name": "ButtonStyleModel",
          "model_module_version": "1.5.0",
          "state": {
            "_model_module": "@jupyter-widgets/controls",
            "_model_module_version": "1.5.0",
            "_model_name": "ButtonStyleModel",
            "_view_count": null,
            "_view_module": "@jupyter-widgets/base",
            "_view_module_version": "1.2.0",
            "_view_name": "StyleView",
            "button_color": "orange",
            "font_weight": ""
          }
        },
        "5c2bba7c313f4d53b6b4d76c58889265": {
          "model_module": "@jupyter-widgets/controls",
          "model_name": "ButtonStyleModel",
          "model_module_version": "1.5.0",
          "state": {
            "_model_module": "@jupyter-widgets/controls",
            "_model_module_version": "1.5.0",
            "_model_name": "ButtonStyleModel",
            "_view_count": null,
            "_view_module": "@jupyter-widgets/base",
            "_view_module_version": "1.2.0",
            "_view_name": "StyleView",
            "button_color": "orange",
            "font_weight": ""
          }
        },
        "119f10b027d9421cbcbedcef62cf0161": {
          "model_module": "@jupyter-widgets/controls",
          "model_name": "ButtonStyleModel",
          "model_module_version": "1.5.0",
          "state": {
            "_model_module": "@jupyter-widgets/controls",
            "_model_module_version": "1.5.0",
            "_model_name": "ButtonStyleModel",
            "_view_count": null,
            "_view_module": "@jupyter-widgets/base",
            "_view_module_version": "1.2.0",
            "_view_name": "StyleView",
            "button_color": "orange",
            "font_weight": ""
          }
        }
      }
    }
  },
  "cells": [
    {
      "cell_type": "markdown",
      "metadata": {
        "id": "view-in-github",
        "colab_type": "text"
      },
      "source": [
        "<a href=\"https://colab.research.google.com/github/psy03/Midterm24/blob/main/DLW02A.ipynb\" target=\"_parent\"><img src=\"https://colab.research.google.com/assets/colab-badge.svg\" alt=\"Open In Colab\"/></a>"
      ]
    },
    {
      "cell_type": "markdown",
      "source": [
        "# 🌳 **DLEE** (Week 03~04):\n",
        "# **Topic: Python basics #1**\n",
        "\n",
        "📙Manual [Coding4ET Lesson03](https://github.com/MK316/Coding4ET/blob/main/Lessons/Lesson03.md#Variables)\n",
        "\n",
        "\n",
        "📗Table of contents\n",
        "* 3.1 Comment vs. Code cells; Running code cells\n",
        "* 3.2 Input vs. Output\n",
        "+ **3.3 Variables**\n",
        "* **3.4 Operators**\n",
        "* **3.5 Functions**\n",
        "* 3.6 Modules, libraries & packages\n",
        "\n",
        "💙 Github IDs [here](https://docs.google.com/spreadsheets/d/11TMSMm_0xzBc5lYAJx9oDwwrgeeAqKR1CEULl-eR6w0/edit?usp=sharing)\n",
        "\n",
        "Updated as of Mar.25, 2024"
      ],
      "metadata": {
        "id": "fkVkXhLoOGMz"
      }
    },
    {
      "cell_type": "markdown",
      "source": [
        "# **3.1 Text vs. Code cells**"
      ],
      "metadata": {
        "id": "CY-YSoyjarvc"
      }
    },
    {
      "cell_type": "markdown",
      "source": [
        "**A. This is a text cell**"
      ],
      "metadata": {
        "id": "uUjz2zOPawt8"
      }
    },
    {
      "cell_type": "markdown",
      "source": [
        "built-in functions\n",
        "\n",
        "+ print()\n",
        "+ input()"
      ],
      "metadata": {
        "id": "wwVhakDKijCw"
      }
    },
    {
      "cell_type": "code",
      "source": [
        "print(\"Hello, Python!\")\n",
        "\n",
        "greet = input() # The user types input text\n",
        "print(greet)   # This will display 'greet'"
      ],
      "metadata": {
        "id": "4QtSk8ZnhxmS",
        "outputId": "1188bf89-2b65-464f-b119-8083bf952e7b",
        "colab": {
          "base_uri": "https://localhost:8080/"
        }
      },
      "execution_count": 1,
      "outputs": [
        {
          "output_type": "stream",
          "name": "stdout",
          "text": [
            "Hello, Python!\n",
            "hi\n",
            "hi\n"
          ]
        }
      ]
    },
    {
      "cell_type": "code",
      "source": [
        "#@markdown **B. This is a code cell** (Run this code by clicking the icon on the left)\n",
        "\n",
        "name = input(\"What is your name? \")\n",
        "\n",
        "print(\"*\"*30)\n",
        "print(f\"Welcome, {name}!\", \"\\n\\n\", \"This is how you run a code cell. When you click on the code cell and run it, the phrase 'You ran the code' indicates that the code has been executed. The output you see is the direct result of what was programmed in that code cell.\")"
      ],
      "metadata": {
        "id": "cTgQTMDmazU9",
        "colab": {
          "base_uri": "https://localhost:8080/"
        },
        "outputId": "52e18bc0-b105-4edc-c4a1-465f80eb4635"
      },
      "execution_count": 3,
      "outputs": [
        {
          "output_type": "stream",
          "name": "stdout",
          "text": [
            "What is your name? ss\n",
            "******************************\n",
            "Welcome, ss! \n",
            "\n",
            " This is how you run a code cell. When you click on the code cell and run it, the phrase 'You ran the code' indicates that the code has been executed. The output you see is the direct result of what was programmed in that code cell.\n"
          ]
        }
      ]
    },
    {
      "cell_type": "code",
      "source": [
        "print(\"What is your name?\")\n",
        "\n",
        "name= input()\n",
        "print(\"Welcome,\", name)"
      ],
      "metadata": {
        "id": "OnsbIC6Ed2ZA",
        "outputId": "4d11e4b8-b939-4c9f-de53-4fc7c468077b",
        "colab": {
          "base_uri": "https://localhost:8080/"
        }
      },
      "execution_count": 5,
      "outputs": [
        {
          "output_type": "stream",
          "name": "stdout",
          "text": [
            "What is your name?\n",
            "ss\n",
            "Welcome, ss\n"
          ]
        }
      ]
    },
    {
      "cell_type": "code",
      "source": [
        "# Short cut key to run a code cell: Shift + Enter"
      ],
      "metadata": {
        "id": "mQJaxjKsLvwn"
      },
      "execution_count": null,
      "outputs": []
    },
    {
      "cell_type": "markdown",
      "source": [
        "## 😶 **_How to comment on a code cell?_**\n",
        "\n",
        "- In Python, the # symbol is used to indicate a comment. A comment is a line of text in a code that is ignored by the Python interpreter and is used to provide explanations or notes for the reader of the code."
      ],
      "metadata": {
        "id": "xZv9R8I8ZWvt"
      }
    },
    {
      "cell_type": "code",
      "source": [
        "# This is a comment in Python\n",
        "# Short cut key to switch code and comment line: Ctrl + /\n",
        "\n",
        "x = 10 # this is also a comment"
      ],
      "metadata": {
        "id": "7UJmbmmTaFx9"
      },
      "execution_count": 6,
      "outputs": []
    },
    {
      "cell_type": "code",
      "source": [
        "# Reading an error message is also important!\n",
        "\n",
        "y = x * 5      # x is defined previously\n",
        "k = \"Welcome!\"\n",
        "\n",
        "print(y*2)\n",
        "print(k*2)"
      ],
      "metadata": {
        "colab": {
          "base_uri": "https://localhost:8080/"
        },
        "id": "Ivc72tB0X_TS",
        "outputId": "97b677b1-36b9-4e1a-ef85-bfd7653c7407"
      },
      "execution_count": 7,
      "outputs": [
        {
          "output_type": "stream",
          "name": "stdout",
          "text": [
            "100\n",
            "Welcome!Welcome!\n"
          ]
        }
      ]
    },
    {
      "cell_type": "markdown",
      "source": [
        "### Note: built-in functions (As the class progresses, you will learn about one built-in function at a time as needed.)\n",
        "\n",
        "+ print()\n",
        "+ input()"
      ],
      "metadata": {
        "id": "Mk6_F5CVKTPF"
      }
    },
    {
      "cell_type": "code",
      "source": [
        "#@markdown More code sample: Word guessing game\n",
        "\n",
        "# Define a word and its hints\n",
        "word = \"apple\"\n",
        "hints = [\n",
        "    \"It's a type of fruit.\",\n",
        "    \"It can be red, green, or yellow.\",\n",
        "    \"It's often associated with the story of Isaac Newton.\",\n",
        "    \"This fruit's name starts with 'A'.\"\n",
        "]\n",
        "\n",
        "print(\"Welcome to the Progressive Hint Quiz!\")\n",
        "print(\"*\"*30)\n",
        "print(\"Try to guess the word. You'll receive up to 4 hints. Type 'exit' to quit.\")\n",
        "\n",
        "# User guess loop\n",
        "for hint in hints:\n",
        "    print(hint)  # Show the next hint\n",
        "    print(\"*\"*30)\n",
        "    guess = input(\"Your guess: \").strip().lower()  # Get user's guess, stripped of whitespace and converted to lowercase\n",
        "\n",
        "    if guess == \"exit\":\n",
        "        print(\"Thanks for playing! Goodbye.\")\n",
        "        break\n",
        "    elif guess == word:\n",
        "        print(\"Congratulations! You've guessed the word correctly.\")\n",
        "        break\n",
        "else:  # If the loop completes without a correct guess or exit\n",
        "    print(f\"Out of hints! The correct word was '{word}'. Better luck next time!\")\n",
        "\n"
      ],
      "metadata": {
        "colab": {
          "base_uri": "https://localhost:8080/"
        },
        "id": "VaCwpP7mLRrS",
        "outputId": "9ad78d84-55c2-479d-8865-e47ad9256b59"
      },
      "execution_count": 9,
      "outputs": [
        {
          "output_type": "stream",
          "name": "stdout",
          "text": [
            "Welcome to the Progressive Hint Quiz!\n",
            "******************************\n",
            "Try to guess the word. You'll receive up to 4 hints. Type 'exit' to quit.\n",
            "It's a type of fruit.\n",
            "******************************\n",
            "Your guess: quit\n",
            "It can be red, green, or yellow.\n",
            "******************************\n",
            "Your guess: apple\n",
            "Congratulations! You've guessed the word correctly.\n"
          ]
        }
      ]
    },
    {
      "cell_type": "markdown",
      "source": [
        "# **3.2 Input vs. Output**"
      ],
      "metadata": {
        "id": "ZXbZsNpwa0-0"
      }
    },
    {
      "cell_type": "markdown",
      "source": [
        "### 🔸**Input:**\n",
        "+ Definition: Input refers to any information or data that is sent to a computer for processing. This information can come from various sources, such as a keyboard, mouse, microphone, or even an internet connection. Examples:\n",
        "\n",
        "  + Typing text on a keyboard.\n",
        "  + Clicking or moving a mouse.\n",
        "  + Speaking into a microphone.\n",
        "  + Uploading a file or entering data through a website.\n",
        "+ Importance in Coding: Understanding input is crucial because it determines how a program will respond or behave. For instance, a program might react differently to a click than it would to a keyboard press.\n",
        "\n",
        "### 🔸**Output:**\n",
        "+ Definition: Output is the result produced by a computer after processing the input. This output can be displayed in various forms like text on a screen, sound through speakers, or even a printed document. Examples:\n",
        "\n",
        "  + Displaying text or images on a screen.\n",
        "  + Playing sound or music through speakers or headphones.\n",
        "  + Sending a document to a printer.\n",
        "  + Saving a file or sending data over the internet.\n",
        "+ Importance in Coding: Output is the way a program communicates the results of its computations or actions. It can be as simple as displaying a message like \"Hello World!\" or as complex as rendering a detailed graphical report."
      ],
      "metadata": {
        "id": "t8MOM-nDeXq9"
      }
    },
    {
      "cell_type": "markdown",
      "source": [
        "### 💦 **Multi-modality**\n",
        "\n",
        "|Input ➡️ |Codes| ➡️ Output|\n",
        "|--|--|--|\n",
        "|Text|  | Text|\n",
        "|Audio||Audio|\n",
        "|Image||Image|\n",
        "|Video||Vidio|\n",
        "\n",
        "[Multi-modality samples](https://github.com/MK316/Spring2024/blob/main/Multimodality.ipynb)"
      ],
      "metadata": {
        "id": "YcnboBYksXqf"
      }
    },
    {
      "cell_type": "markdown",
      "source": [
        "# **3.3 Variables**"
      ],
      "metadata": {
        "id": "93gQaEo1RX63"
      }
    },
    {
      "cell_type": "markdown",
      "source": [
        "+ **A variable** is a named storage location that holds a value. (e.g., x = 3 \"The value '3' is assigned to a variable 'x')\n",
        "+ Variables can be used **to store values** such as numbers, strings, lists, or other data types.\n",
        "+ The value of a variable can change throughout the execution of a program.\n",
        "+ To declare a variable in Python, you need to **assign a value** to it using the 📌 **equal (=) sign.**\n",
        "+ Rules to create a variable name [click here](https://github.com/MK316/Coding4ET/blob/main/Lessons/Lesson03.md#Variables)"
      ],
      "metadata": {
        "id": "jJT4hD1teuJr"
      }
    },
    {
      "cell_type": "code",
      "source": [
        "x = 10                # Assign the value '10' to the variable 'x'\n",
        "y = \"Hello, class!\"   # Assign the text 'Hello, class!' to the variable 'y'\n",
        "\n",
        "print(x)"
      ],
      "metadata": {
        "id": "Xes87bY2X45M",
        "outputId": "d46e516a-cd05-418e-b635-6fb5a368572d",
        "colab": {
          "base_uri": "https://localhost:8080/"
        }
      },
      "execution_count": 10,
      "outputs": [
        {
          "output_type": "stream",
          "name": "stdout",
          "text": [
            "10\n"
          ]
        }
      ]
    },
    {
      "cell_type": "markdown",
      "source": [
        "↗️ In the above example, 'x' is assigned the value of 10 (integer), 'y' is assigned the value of \"Hello, World!\" (text)."
      ],
      "metadata": {
        "id": "ulw6QsP5ZiKp"
      }
    },
    {
      "cell_type": "code",
      "source": [
        "x = x - 5\n",
        "\n",
        "print(x)\n",
        "print(y)"
      ],
      "metadata": {
        "colab": {
          "base_uri": "https://localhost:8080/"
        },
        "id": "d0PaIhYqB0Qf",
        "outputId": "e8015290-76fb-4e82-bd5c-2baba6eb173b"
      },
      "execution_count": 11,
      "outputs": [
        {
          "output_type": "stream",
          "name": "stdout",
          "text": [
            "5\n",
            "Hello, class!\n"
          ]
        }
      ]
    },
    {
      "cell_type": "code",
      "source": [
        "k = \"Python\"\n",
        "# [0] is how to access to the data using index\n",
        "print(k[0])\n",
        "print(k[0:2])\n",
        "print(k[-2:])\n",
        "print(k[:])"
      ],
      "metadata": {
        "colab": {
          "base_uri": "https://localhost:8080/"
        },
        "id": "1G9xsbMfvQ6V",
        "outputId": "d3addac9-6924-4257-c5dd-eb263e1ee38c"
      },
      "execution_count": 12,
      "outputs": [
        {
          "output_type": "stream",
          "name": "stdout",
          "text": [
            "P\n",
            "Py\n",
            "on\n",
            "Python\n"
          ]
        }
      ]
    },
    {
      "cell_type": "markdown",
      "source": [
        "### Notes on Python index:\n",
        "\n",
        "Python Index: Indexing in Python is a way to access individual items.\n",
        "\n",
        "e.g., k = [1, 2, 3]\n",
        "\n",
        "Q1. How to access to the first item of k?\n",
        "\n",
        "> k[0]\n",
        "\n",
        "Q2. What is the index of the value 3 in k?\n",
        "> 2\n",
        "\n",
        " 📌 Important: **Python index begins with '0'.** Python uses zero-based indexing. This means the first element is accessed with index 0, the second with 1, and so on."
      ],
      "metadata": {
        "id": "JKyUbhADHHbD"
      }
    },
    {
      "cell_type": "code",
      "source": [
        "mystring = \"Python\"\n",
        "mystring[0]"
      ],
      "metadata": {
        "id": "DpylXRSM4c-s",
        "outputId": "090359c4-b66a-4945-b188-134b85cf5f4e",
        "colab": {
          "base_uri": "https://localhost:8080/",
          "height": 35
        }
      },
      "execution_count": 13,
      "outputs": [
        {
          "output_type": "execute_result",
          "data": {
            "text/plain": [
              "'P'"
            ],
            "application/vnd.google.colaboratory.intrinsic+json": {
              "type": "string"
            }
          },
          "metadata": {},
          "execution_count": 13
        }
      ]
    },
    {
      "cell_type": "code",
      "source": [
        "mystring[:] # from index A (inclusive) to index B (exclusive)"
      ],
      "metadata": {
        "id": "-RQLAZyB4l-d",
        "outputId": "4c6f0a15-4ad1-46e1-f872-b499266ea613",
        "colab": {
          "base_uri": "https://localhost:8080/",
          "height": 35
        }
      },
      "execution_count": 14,
      "outputs": [
        {
          "output_type": "execute_result",
          "data": {
            "text/plain": [
              "'Python'"
            ],
            "application/vnd.google.colaboratory.intrinsic+json": {
              "type": "string"
            }
          },
          "metadata": {},
          "execution_count": 14
        }
      ]
    },
    {
      "cell_type": "markdown",
      "source": [
        "# **3.4 Operators**\n",
        "\n",
        "* Symbols that perform operations on values and variables.\n",
        "* They are used to perform arithmetic and logical operations, and they can also be used to manipulate and compare values.\n",
        "* Arithmetic Operators:\n",
        "  + [addition] +\n",
        "  + [subtraction] -\n",
        "  + [multiplication] *\n",
        "  + [Division] /"
      ],
      "metadata": {
        "id": "5JgA2T2dRft5"
      }
    },
    {
      "cell_type": "markdown",
      "source": [
        "Example)"
      ],
      "metadata": {
        "id": "NJBgu_O4bczL"
      }
    },
    {
      "cell_type": "code",
      "source": [
        "x = 2; y = 5\n",
        "\n",
        "a1 = x + y\n",
        "a2 = x - y\n",
        "a3 = x * y\n",
        "a4 = x / y"
      ],
      "metadata": {
        "id": "dXT3pIzobUHU"
      },
      "execution_count": 15,
      "outputs": []
    },
    {
      "cell_type": "markdown",
      "source": [
        "print(variable) or print(\"text\")"
      ],
      "metadata": {
        "id": "T02W7cGdecwZ"
      }
    },
    {
      "cell_type": "code",
      "source": [
        "print(a1, a2, a3, a4)\n",
        "print(\"The answer of a1, a2, a3, a4:\", a1, a2, a3, a4)"
      ],
      "metadata": {
        "id": "_m3JBsOKd6Uv",
        "outputId": "312014b4-8e72-471f-c810-934e4678ec29",
        "colab": {
          "base_uri": "https://localhost:8080/"
        }
      },
      "execution_count": 16,
      "outputs": [
        {
          "output_type": "stream",
          "name": "stdout",
          "text": [
            "7 -3 10 0.4\n",
            "The answer of a1, a2, a3, a4: 7 -3 10 0.4\n"
          ]
        }
      ]
    },
    {
      "cell_type": "markdown",
      "source": [
        "More operators (for later): <br>\n",
        "* Comparison Operators: ==, !=, <, >, <=, >= <br>\n",
        "* Assignment Operators: =, +=, -=, *=, /=, %= <br>\n",
        "* Logical Operators: and, or, not <br>\n",
        "* Identity Operators: is, is not <br>\n",
        "* Membership Operators: in, not in"
      ],
      "metadata": {
        "id": "sfubu24UbqjH"
      }
    },
    {
      "cell_type": "markdown",
      "source": [
        "# **3.5 Functions**\n",
        "\n",
        "## Creating a Function in Python\n",
        "\n",
        "In Python, a function is defined using the `def` keyword, followed by a function name, a set of parentheses `()`, and a colon `:`. The indented block of code following the `:` is executed whenever the function is called.\n",
        "\n",
        "### Example:\n",
        "\n",
        "Here's a simple function that takes two numbers and returns their sum:\n",
        "\n",
        "```python\n",
        "def add_numbers(num1, num2):\n",
        "    result = num1 + num2\n",
        "    return result\n"
      ],
      "metadata": {
        "id": "MoUYg0HeW6oF"
      }
    },
    {
      "cell_type": "code",
      "source": [
        "# Copy and paste the above function and run it\n",
        "\n",
        "def add_numbers(num1, num2):\n",
        "    result = num1 + num2\n",
        "    return result"
      ],
      "metadata": {
        "id": "scsrQwYN5ewy"
      },
      "execution_count": 17,
      "outputs": []
    },
    {
      "cell_type": "code",
      "source": [
        "add_numbers(17, 35)"
      ],
      "metadata": {
        "id": "MDEtrKTf8exk",
        "outputId": "fa76f4ee-57c3-465e-ddce-53ec4bde2e84",
        "colab": {
          "base_uri": "https://localhost:8080/"
        }
      },
      "execution_count": 18,
      "outputs": [
        {
          "output_type": "execute_result",
          "data": {
            "text/plain": [
              "52"
            ]
          },
          "metadata": {},
          "execution_count": 18
        }
      ]
    },
    {
      "cell_type": "code",
      "source": [
        "def A(a1, a2):\n",
        "  result = a1 + a2\n",
        "  return result\n",
        "\n",
        "A(32,11)"
      ],
      "metadata": {
        "id": "Dl2O2okxgghH",
        "outputId": "89f3b0bc-b7d0-472f-8ec8-6d116e81764b",
        "colab": {
          "base_uri": "https://localhost:8080/"
        }
      },
      "execution_count": 21,
      "outputs": [
        {
          "output_type": "execute_result",
          "data": {
            "text/plain": [
              "43"
            ]
          },
          "metadata": {},
          "execution_count": 21
        }
      ]
    },
    {
      "cell_type": "markdown",
      "source": [
        "# 🔢 Calculator\n",
        "\n",
        "+ [Online app: text only](https://mrkim21.github.io/NumericExpressionReader.html)\n"
      ],
      "metadata": {
        "id": "Cx1NyWUAybc8"
      }
    },
    {
      "cell_type": "code",
      "source": [
        "# This function adds two numbers\n",
        "def add(x, y):\n",
        "    return x + y\n",
        "\n",
        "# This function subtracts two numbers\n",
        "def subtract(x, y):\n",
        "    return x - y\n",
        "\n",
        "# This function multiplies two numbers\n",
        "def multiply(x, y):\n",
        "    return x * y\n",
        "\n",
        "# This function divides two numbers\n",
        "def divide(x, y):\n",
        "    return x / y\n",
        "\n",
        "#@markdown Dropdown type calculator to teach how to read math operations in English\n",
        "func = \"subtract\" #@param = [\"add\",\"subtract\",\"multiply\",\"divide\"]\n",
        "digits = input(\"Type two numbers: (e.g., 3,4)\")\n",
        "digitsplit = digits.split(',')\n",
        "d1 = int(digitsplit[0])\n",
        "d2 = int(digitsplit[1])\n",
        "\n",
        "if func == \"add\":\n",
        "  result = add(d1,d2)\n",
        "  text = \"The addition of %d and %d equals %d\"%(d1,d2,result)\n",
        "elif func == \"subtract\":\n",
        "  result = subtract(d1,d2)\n",
        "  text = \"If you subtract %d from %d, you get %d\"%(d2,d1,result)\n",
        "elif func == \"divide\":\n",
        "  result = divide(d1,d2)\n",
        "  text = \"When you divide %d by %d, you get %d\"%(d1,d2,result)\n",
        "elif func == \"multiply\":\n",
        "  result = multiply(d1,d2)\n",
        "  text = \"%d multiplied by %d is %d\"%(d1,d2,result)\n",
        "\n",
        "print(text)\n",
        "\n"
      ],
      "metadata": {
        "cellView": "form",
        "id": "Dod3_zgYdsWe",
        "colab": {
          "base_uri": "https://localhost:8080/"
        },
        "outputId": "a874032e-277a-437e-bed0-3a92bf0c7e1f"
      },
      "execution_count": 22,
      "outputs": [
        {
          "output_type": "stream",
          "name": "stdout",
          "text": [
            "Type two numbers: (e.g., 3,4)2,65\n",
            "If you subtract 65 from 2, you get -63\n"
          ]
        }
      ]
    },
    {
      "cell_type": "code",
      "source": [
        "#@markdown Calculator app\n",
        "import ipywidgets as widgets\n",
        "from IPython.display import display\n",
        "\n",
        "# Create the output widget to display the results\n",
        "output = widgets.Output()\n",
        "\n",
        "# Create the text widget for displaying the expression\n",
        "expression = widgets.Text(value='', placeholder='Type something', description='Calculation:', disabled=False)\n",
        "\n",
        "def on_button_clicked(b):\n",
        "    with output:\n",
        "        output.clear_output()\n",
        "        if b.description == \"=\":\n",
        "            # Replace the Unicode operators with Python operators\n",
        "            current_expression = expression.value.replace('×', '*').replace('÷', '/')\n",
        "            # Evaluate the expression and handle errors\n",
        "            try:\n",
        "                expression.value = str(eval(current_expression))\n",
        "            except Exception as e:\n",
        "                expression.value = 'Error'\n",
        "        elif b.description == \"Clear\":  # Changed from \"C\" to \"Clear\"\n",
        "            # Clear the expression\n",
        "            expression.value = ''\n",
        "        else:\n",
        "            # Append the button description (number or operator) to the expression\n",
        "            expression.value += b.description\n",
        "\n",
        "\n",
        "# Create buttons using a loop and store them in a list\n",
        "buttons = []\n",
        "button_layout = widgets.Layout(width='75px', height='75px', margin='5px')  # Increased width and height, added margin\n",
        "button_style = {'button_color': 'orange'}  # Set the button color to orange\n",
        "\n",
        "operators = [['7', '8', '9', '÷'],\n",
        "             ['4', '5', '6', '×'],\n",
        "             ['1', '2', '3', '-'],\n",
        "             ['0', '.', '=', '+'],\n",
        "             ['Clear']]  # 'C' button for clearing the input\n",
        "\n",
        "for row in operators:\n",
        "    row_buttons = []\n",
        "    for button_label in row:\n",
        "        button = widgets.Button(description=button_label, layout=button_layout, style=button_style)\n",
        "        button.on_click(on_button_clicked)\n",
        "        row_buttons.append(button)\n",
        "    buttons.append(widgets.HBox(row_buttons))\n",
        "\n",
        "# Display all the widgets\n",
        "all_buttons = widgets.VBox([expression] + buttons)\n",
        "display(output, all_buttons)\n",
        "\n",
        "\n",
        "# Add a clear button\n",
        "clear_button = widgets.Button(description=\"C\", layout=button_layout)\n",
        "clear_button.on_click(on_button_clicked)\n",
        "buttons.append(widgets.HBox([clear_button]))\n",
        "\n",
        "# # Display all the widgets\n",
        "# all_buttons = widgets.VBox([expression] + buttons)\n",
        "# display(output, all_buttons)"
      ],
      "metadata": {
        "cellView": "form",
        "colab": {
          "base_uri": "https://localhost:8080/",
          "height": 475,
          "referenced_widgets": [
            "67f04ece21da4580a992661d4e6e2a10",
            "822c24af9e694d7ba3fd50d1f518fc37",
            "08ddb2ded32b4015bb9a19d3c8f77de3",
            "0ab4cb7de48c44deb45bdf95904b5ab8",
            "5bc67ee638304e3ba9d1380eb68fd122",
            "7109b164f6ec4e80a2536974f2128f87",
            "8946fbb0f614415787e9c449e154b496",
            "1e92170437ed4f8397141c5fc5f8e512",
            "353082a29b284fc3b84f91e35503df90",
            "40ccb1727e894212ba66b14e8fd4ba4a",
            "2011ef356aa04151a660b9d02bccdada",
            "e70bead2c11e41b6ab112bfe0f86b519",
            "31a3bfb51c504018a1a181027fc4067e",
            "14be0f0db4074ad5bcc6d04036f4ae3a",
            "8fef31f2d43d47fa8dfb3dbe29c1fa7c",
            "92ff99cf7e36489896eb3274bb25f791",
            "941c1b34f8a94f76954a940fd61fa7c7",
            "48245725f04d45c2a7e800e7fb6886c3",
            "c1c740a63098463ba2d182e1ce54f62e",
            "a4f9c58d4dc048d3918156a7af454f20",
            "b15c405e9d2d4dfd9d5e4d2ac7e6183c",
            "711a7fcc647f48a685b917de4b48ebbe",
            "09eec7fcb7184213a9339b525e728803",
            "0011d44ffa3845698ef8ae98e15fa60f",
            "5635f0f863294114aab8b320d8ab6212",
            "985f7c89f86b436ab6e8b7f5769afd6d",
            "cc0f8307515141ae9d4f85ffdd2ac8da",
            "2ee3f2293c184a43a526cc0470a96db0",
            "4b397070311f4e0bac8a02dcc55c14b1",
            "9c317c3e7dab4b14999e21be0281e328",
            "7c2be0636f5e4437b446fffe0dd29954",
            "946e86243606417c85c12dcf094f269b",
            "34888fce301245eaa0c2cd1be47bf13d",
            "4cb6864a7aa24199a9592f80446503ff",
            "54b7f1d64d4b40b1a77486280cea3014",
            "8515ad39543542fb86f823f044967b18",
            "ee82fc994db44dc0ba68e67936a1724f",
            "e306c033393243bb86ce0fec9cba381e",
            "b77843cc2e1c40bfb7b354cfcbc3ff06",
            "cbdfe5033dc64e5ba8dee4945cc64353",
            "5a10840501c94a3a993c5654a405e243",
            "f5d486fff7dd4a199a37641e8621f858",
            "cb2baa7921e64b3192d911a87ccd8fc9",
            "d6f2478883e64f92a1d98cb6f1958df4",
            "205485b66d97492b9bc395516df173e1",
            "387cbd10731346f98c9835ee68425312",
            "224eaabe160a476297bc676180817d05",
            "f365d06946fd45269753a05c0611d976",
            "df7dcaa2f9e34f368845e628ecbea092",
            "462f61708d9b4616a474656ae3ff8d44",
            "5c2bba7c313f4d53b6b4d76c58889265",
            "119f10b027d9421cbcbedcef62cf0161"
          ]
        },
        "id": "bCBS-TdWTtxZ",
        "outputId": "d7236f62-8fde-444b-dc67-63b38ed569f4"
      },
      "execution_count": 23,
      "outputs": [
        {
          "output_type": "display_data",
          "data": {
            "text/plain": [
              "Output()"
            ],
            "application/vnd.jupyter.widget-view+json": {
              "version_major": 2,
              "version_minor": 0,
              "model_id": "67f04ece21da4580a992661d4e6e2a10"
            }
          },
          "metadata": {}
        },
        {
          "output_type": "display_data",
          "data": {
            "text/plain": [
              "VBox(children=(Text(value='', description='Calculation:', placeholder='Type something'), HBox(children=(Button…"
            ],
            "application/vnd.jupyter.widget-view+json": {
              "version_major": 2,
              "version_minor": 0,
              "model_id": "08ddb2ded32b4015bb9a19d3c8f77de3"
            }
          },
          "metadata": {}
        }
      ]
    },
    {
      "cell_type": "markdown",
      "source": [
        "### APP: Convert a sentence into a Yes-No question\n",
        "\n",
        "e.g., He is late. My uncle was late."
      ],
      "metadata": {
        "id": "qzkzuw3g7sBY"
      }
    },
    {
      "cell_type": "code",
      "source": [
        "#@markdown Define yesno(sentence) function to make a statement to a yesno question.\n",
        "def yesno(sentence):\n",
        "    # Remove the period if it's at the end of the sentence\n",
        "    sentence = sentence.rstrip('.')\n",
        "\n",
        "    # Split the sentence into words\n",
        "    words = sentence.split()\n",
        "    # Define a list of 'be' verbs\n",
        "    be_verbs = ['is', 'are', 'am', 'was', 'were']\n",
        "\n",
        "    # Find the position of the 'be' verb\n",
        "    for i, word in enumerate(words):\n",
        "        if word in be_verbs and i != 0:  # Ensure the 'be' verb is not the first word\n",
        "            # Invert the subject and the 'be' verb\n",
        "            # Assuming the subject is the first word\n",
        "            subject = words[0].lower()  # Convert subject to lowercase\n",
        "            verb = words[i]\n",
        "            # Reconstruct the sentence as a yes-no question\n",
        "            remaining = words[1:i] + words[i+1:]\n",
        "            question = f\"{verb.capitalize()} {subject} \" + \" \".join(remaining).strip() + \"?\"\n",
        "            return question\n",
        "\n",
        "    # If no 'be' verb is found, or it's the first word, return the original sentence\n",
        "    return \"Not a simple 'be' verb sentence, already a question, or 'be' verb is the first word.\"\n",
        "\n",
        "# Example usage\n",
        "\n",
        "yoursentence = input(\"Type a simple sentence including be verb.\")\n",
        "yesno(yoursentence)\n"
      ],
      "metadata": {
        "id": "aeT6u0h7XbXW",
        "outputId": "fb109467-343c-4721-f2ae-bfb851e99102",
        "colab": {
          "base_uri": "https://localhost:8080/",
          "height": 54
        }
      },
      "execution_count": 24,
      "outputs": [
        {
          "name": "stdout",
          "output_type": "stream",
          "text": [
            "Type a simple sentence including be verb.I am soyeon\n"
          ]
        },
        {
          "output_type": "execute_result",
          "data": {
            "text/plain": [
              "'Am i soyeon?'"
            ],
            "application/vnd.google.colaboratory.intrinsic+json": {
              "type": "string"
            }
          },
          "metadata": {},
          "execution_count": 24
        }
      ]
    },
    {
      "cell_type": "markdown",
      "source": [
        "💜 **Understanding Error message**\n",
        "\n",
        "**Gradio:** Gradio is an open-source Python library that simplifies the process of creating web-based interfaces for machine learning models. [weblink](https://www.gradio.app/)\n",
        "\n",
        "+ You can learn Gradio through [quickstart](https://www.gradio.app/guides/quickstart)"
      ],
      "metadata": {
        "id": "HBmc1OntiM7U"
      }
    },
    {
      "cell_type": "markdown",
      "source": [
        "# **3.6 Install and import library, package, and module**"
      ],
      "metadata": {
        "id": "M2jcK3rfp5Oa"
      }
    },
    {
      "cell_type": "markdown",
      "source": [
        "+ A module is a single file of Python code,\n",
        "+ a package is a collection of modules in a directory, and\n",
        "+ a library is a collection of packages and modules that are designed to be used together for a specific purpose or set of purposes."
      ],
      "metadata": {
        "id": "nvvYk2c4qA2_"
      }
    },
    {
      "cell_type": "code",
      "source": [
        "# Install gradio library using !pip install\n",
        "\n",
        "!pip install gradio"
      ],
      "metadata": {
        "id": "GTYk9znFgQaH",
        "outputId": "2dd8fcf6-0fdf-4c0f-df48-d40a37a6d1f5",
        "colab": {
          "base_uri": "https://localhost:8080/"
        }
      },
      "execution_count": 25,
      "outputs": [
        {
          "output_type": "stream",
          "name": "stdout",
          "text": [
            "Collecting gradio\n",
            "  Downloading gradio-4.28.3-py3-none-any.whl (12.2 MB)\n",
            "\u001b[2K     \u001b[90m━━━━━━━━━━━━━━━━━━━━━━━━━━━━━━━━━━━━━━━━\u001b[0m \u001b[32m12.2/12.2 MB\u001b[0m \u001b[31m21.6 MB/s\u001b[0m eta \u001b[36m0:00:00\u001b[0m\n",
            "\u001b[?25hCollecting aiofiles<24.0,>=22.0 (from gradio)\n",
            "  Downloading aiofiles-23.2.1-py3-none-any.whl (15 kB)\n",
            "Requirement already satisfied: altair<6.0,>=4.2.0 in /usr/local/lib/python3.10/dist-packages (from gradio) (4.2.2)\n",
            "Collecting fastapi (from gradio)\n",
            "  Downloading fastapi-0.110.3-py3-none-any.whl (91 kB)\n",
            "\u001b[2K     \u001b[90m━━━━━━━━━━━━━━━━━━━━━━━━━━━━━━━━━━━━━━━━\u001b[0m \u001b[32m91.8/91.8 kB\u001b[0m \u001b[31m9.2 MB/s\u001b[0m eta \u001b[36m0:00:00\u001b[0m\n",
            "\u001b[?25hCollecting ffmpy (from gradio)\n",
            "  Downloading ffmpy-0.3.2.tar.gz (5.5 kB)\n",
            "  Preparing metadata (setup.py) ... \u001b[?25l\u001b[?25hdone\n",
            "Collecting gradio-client==0.16.0 (from gradio)\n",
            "  Downloading gradio_client-0.16.0-py3-none-any.whl (314 kB)\n",
            "\u001b[2K     \u001b[90m━━━━━━━━━━━━━━━━━━━━━━━━━━━━━━━━━━━━━━━━\u001b[0m \u001b[32m314.4/314.4 kB\u001b[0m \u001b[31m26.5 MB/s\u001b[0m eta \u001b[36m0:00:00\u001b[0m\n",
            "\u001b[?25hCollecting httpx>=0.24.1 (from gradio)\n",
            "  Downloading httpx-0.27.0-py3-none-any.whl (75 kB)\n",
            "\u001b[2K     \u001b[90m━━━━━━━━━━━━━━━━━━━━━━━━━━━━━━━━━━━━━━━━\u001b[0m \u001b[32m75.6/75.6 kB\u001b[0m \u001b[31m6.9 MB/s\u001b[0m eta \u001b[36m0:00:00\u001b[0m\n",
            "\u001b[?25hRequirement already satisfied: huggingface-hub>=0.19.3 in /usr/local/lib/python3.10/dist-packages (from gradio) (0.20.3)\n",
            "Requirement already satisfied: importlib-resources<7.0,>=1.3 in /usr/local/lib/python3.10/dist-packages (from gradio) (6.4.0)\n",
            "Requirement already satisfied: jinja2<4.0 in /usr/local/lib/python3.10/dist-packages (from gradio) (3.1.3)\n",
            "Requirement already satisfied: markupsafe~=2.0 in /usr/local/lib/python3.10/dist-packages (from gradio) (2.1.5)\n",
            "Requirement already satisfied: matplotlib~=3.0 in /usr/local/lib/python3.10/dist-packages (from gradio) (3.7.1)\n",
            "Requirement already satisfied: numpy~=1.0 in /usr/local/lib/python3.10/dist-packages (from gradio) (1.25.2)\n",
            "Collecting orjson~=3.0 (from gradio)\n",
            "  Downloading orjson-3.10.1-cp310-cp310-manylinux_2_17_x86_64.manylinux2014_x86_64.whl (141 kB)\n",
            "\u001b[2K     \u001b[90m━━━━━━━━━━━━━━━━━━━━━━━━━━━━━━━━━━━━━━━━\u001b[0m \u001b[32m141.1/141.1 kB\u001b[0m \u001b[31m14.1 MB/s\u001b[0m eta \u001b[36m0:00:00\u001b[0m\n",
            "\u001b[?25hRequirement already satisfied: packaging in /usr/local/lib/python3.10/dist-packages (from gradio) (24.0)\n",
            "Requirement already satisfied: pandas<3.0,>=1.0 in /usr/local/lib/python3.10/dist-packages (from gradio) (2.0.3)\n",
            "Requirement already satisfied: pillow<11.0,>=8.0 in /usr/local/lib/python3.10/dist-packages (from gradio) (9.4.0)\n",
            "Requirement already satisfied: pydantic>=2.0 in /usr/local/lib/python3.10/dist-packages (from gradio) (2.7.0)\n",
            "Collecting pydub (from gradio)\n",
            "  Downloading pydub-0.25.1-py2.py3-none-any.whl (32 kB)\n",
            "Collecting python-multipart>=0.0.9 (from gradio)\n",
            "  Downloading python_multipart-0.0.9-py3-none-any.whl (22 kB)\n",
            "Requirement already satisfied: pyyaml<7.0,>=5.0 in /usr/local/lib/python3.10/dist-packages (from gradio) (6.0.1)\n",
            "Collecting ruff>=0.2.2 (from gradio)\n",
            "  Downloading ruff-0.4.2-py3-none-manylinux_2_17_x86_64.manylinux2014_x86_64.whl (8.8 MB)\n",
            "\u001b[2K     \u001b[90m━━━━━━━━━━━━━━━━━━━━━━━━━━━━━━━━━━━━━━━━\u001b[0m \u001b[32m8.8/8.8 MB\u001b[0m \u001b[31m47.0 MB/s\u001b[0m eta \u001b[36m0:00:00\u001b[0m\n",
            "\u001b[?25hCollecting semantic-version~=2.0 (from gradio)\n",
            "  Downloading semantic_version-2.10.0-py2.py3-none-any.whl (15 kB)\n",
            "Collecting tomlkit==0.12.0 (from gradio)\n",
            "  Downloading tomlkit-0.12.0-py3-none-any.whl (37 kB)\n",
            "Collecting typer<1.0,>=0.12 (from gradio)\n",
            "  Downloading typer-0.12.3-py3-none-any.whl (47 kB)\n",
            "\u001b[2K     \u001b[90m━━━━━━━━━━━━━━━━━━━━━━━━━━━━━━━━━━━━━━━━\u001b[0m \u001b[32m47.2/47.2 kB\u001b[0m \u001b[31m5.1 MB/s\u001b[0m eta \u001b[36m0:00:00\u001b[0m\n",
            "\u001b[?25hRequirement already satisfied: typing-extensions~=4.0 in /usr/local/lib/python3.10/dist-packages (from gradio) (4.11.0)\n",
            "Requirement already satisfied: urllib3~=2.0 in /usr/local/lib/python3.10/dist-packages (from gradio) (2.0.7)\n",
            "Collecting uvicorn>=0.14.0 (from gradio)\n",
            "  Downloading uvicorn-0.29.0-py3-none-any.whl (60 kB)\n",
            "\u001b[2K     \u001b[90m━━━━━━━━━━━━━━━━━━━━━━━━━━━━━━━━━━━━━━━━\u001b[0m \u001b[32m60.8/60.8 kB\u001b[0m \u001b[31m6.6 MB/s\u001b[0m eta \u001b[36m0:00:00\u001b[0m\n",
            "\u001b[?25hRequirement already satisfied: fsspec in /usr/local/lib/python3.10/dist-packages (from gradio-client==0.16.0->gradio) (2023.6.0)\n",
            "Collecting websockets<12.0,>=10.0 (from gradio-client==0.16.0->gradio)\n",
            "  Downloading websockets-11.0.3-cp310-cp310-manylinux_2_5_x86_64.manylinux1_x86_64.manylinux_2_17_x86_64.manylinux2014_x86_64.whl (129 kB)\n",
            "\u001b[2K     \u001b[90m━━━━━━━━━━━━━━━━━━━━━━━━━━━━━━━━━━━━━━━━\u001b[0m \u001b[32m129.9/129.9 kB\u001b[0m \u001b[31m13.7 MB/s\u001b[0m eta \u001b[36m0:00:00\u001b[0m\n",
            "\u001b[?25hRequirement already satisfied: entrypoints in /usr/local/lib/python3.10/dist-packages (from altair<6.0,>=4.2.0->gradio) (0.4)\n",
            "Requirement already satisfied: jsonschema>=3.0 in /usr/local/lib/python3.10/dist-packages (from altair<6.0,>=4.2.0->gradio) (4.19.2)\n",
            "Requirement already satisfied: toolz in /usr/local/lib/python3.10/dist-packages (from altair<6.0,>=4.2.0->gradio) (0.12.1)\n",
            "Requirement already satisfied: anyio in /usr/local/lib/python3.10/dist-packages (from httpx>=0.24.1->gradio) (3.7.1)\n",
            "Requirement already satisfied: certifi in /usr/local/lib/python3.10/dist-packages (from httpx>=0.24.1->gradio) (2024.2.2)\n",
            "Collecting httpcore==1.* (from httpx>=0.24.1->gradio)\n",
            "  Downloading httpcore-1.0.5-py3-none-any.whl (77 kB)\n",
            "\u001b[2K     \u001b[90m━━━━━━━━━━━━━━━━━━━━━━━━━━━━━━━━━━━━━━━━\u001b[0m \u001b[32m77.9/77.9 kB\u001b[0m \u001b[31m8.2 MB/s\u001b[0m eta \u001b[36m0:00:00\u001b[0m\n",
            "\u001b[?25hRequirement already satisfied: idna in /usr/local/lib/python3.10/dist-packages (from httpx>=0.24.1->gradio) (3.7)\n",
            "Requirement already satisfied: sniffio in /usr/local/lib/python3.10/dist-packages (from httpx>=0.24.1->gradio) (1.3.1)\n",
            "Collecting h11<0.15,>=0.13 (from httpcore==1.*->httpx>=0.24.1->gradio)\n",
            "  Downloading h11-0.14.0-py3-none-any.whl (58 kB)\n",
            "\u001b[2K     \u001b[90m━━━━━━━━━━━━━━━━━━━━━━━━━━━━━━━━━━━━━━━━\u001b[0m \u001b[32m58.3/58.3 kB\u001b[0m \u001b[31m6.0 MB/s\u001b[0m eta \u001b[36m0:00:00\u001b[0m\n",
            "\u001b[?25hRequirement already satisfied: filelock in /usr/local/lib/python3.10/dist-packages (from huggingface-hub>=0.19.3->gradio) (3.13.4)\n",
            "Requirement already satisfied: requests in /usr/local/lib/python3.10/dist-packages (from huggingface-hub>=0.19.3->gradio) (2.31.0)\n",
            "Requirement already satisfied: tqdm>=4.42.1 in /usr/local/lib/python3.10/dist-packages (from huggingface-hub>=0.19.3->gradio) (4.66.2)\n",
            "Requirement already satisfied: contourpy>=1.0.1 in /usr/local/lib/python3.10/dist-packages (from matplotlib~=3.0->gradio) (1.2.1)\n",
            "Requirement already satisfied: cycler>=0.10 in /usr/local/lib/python3.10/dist-packages (from matplotlib~=3.0->gradio) (0.12.1)\n",
            "Requirement already satisfied: fonttools>=4.22.0 in /usr/local/lib/python3.10/dist-packages (from matplotlib~=3.0->gradio) (4.51.0)\n",
            "Requirement already satisfied: kiwisolver>=1.0.1 in /usr/local/lib/python3.10/dist-packages (from matplotlib~=3.0->gradio) (1.4.5)\n",
            "Requirement already satisfied: pyparsing>=2.3.1 in /usr/local/lib/python3.10/dist-packages (from matplotlib~=3.0->gradio) (3.1.2)\n",
            "Requirement already satisfied: python-dateutil>=2.7 in /usr/local/lib/python3.10/dist-packages (from matplotlib~=3.0->gradio) (2.8.2)\n",
            "Requirement already satisfied: pytz>=2020.1 in /usr/local/lib/python3.10/dist-packages (from pandas<3.0,>=1.0->gradio) (2023.4)\n",
            "Requirement already satisfied: tzdata>=2022.1 in /usr/local/lib/python3.10/dist-packages (from pandas<3.0,>=1.0->gradio) (2024.1)\n",
            "Requirement already satisfied: annotated-types>=0.4.0 in /usr/local/lib/python3.10/dist-packages (from pydantic>=2.0->gradio) (0.6.0)\n",
            "Requirement already satisfied: pydantic-core==2.18.1 in /usr/local/lib/python3.10/dist-packages (from pydantic>=2.0->gradio) (2.18.1)\n",
            "Requirement already satisfied: click>=8.0.0 in /usr/local/lib/python3.10/dist-packages (from typer<1.0,>=0.12->gradio) (8.1.7)\n",
            "Collecting shellingham>=1.3.0 (from typer<1.0,>=0.12->gradio)\n",
            "  Downloading shellingham-1.5.4-py2.py3-none-any.whl (9.8 kB)\n",
            "Requirement already satisfied: rich>=10.11.0 in /usr/local/lib/python3.10/dist-packages (from typer<1.0,>=0.12->gradio) (13.7.1)\n",
            "Collecting starlette<0.38.0,>=0.37.2 (from fastapi->gradio)\n",
            "  Downloading starlette-0.37.2-py3-none-any.whl (71 kB)\n",
            "\u001b[2K     \u001b[90m━━━━━━━━━━━━━━━━━━━━━━━━━━━━━━━━━━━━━━━━\u001b[0m \u001b[32m71.9/71.9 kB\u001b[0m \u001b[31m6.6 MB/s\u001b[0m eta \u001b[36m0:00:00\u001b[0m\n",
            "\u001b[?25hRequirement already satisfied: attrs>=22.2.0 in /usr/local/lib/python3.10/dist-packages (from jsonschema>=3.0->altair<6.0,>=4.2.0->gradio) (23.2.0)\n",
            "Requirement already satisfied: jsonschema-specifications>=2023.03.6 in /usr/local/lib/python3.10/dist-packages (from jsonschema>=3.0->altair<6.0,>=4.2.0->gradio) (2023.12.1)\n",
            "Requirement already satisfied: referencing>=0.28.4 in /usr/local/lib/python3.10/dist-packages (from jsonschema>=3.0->altair<6.0,>=4.2.0->gradio) (0.34.0)\n",
            "Requirement already satisfied: rpds-py>=0.7.1 in /usr/local/lib/python3.10/dist-packages (from jsonschema>=3.0->altair<6.0,>=4.2.0->gradio) (0.18.0)\n",
            "Requirement already satisfied: six>=1.5 in /usr/local/lib/python3.10/dist-packages (from python-dateutil>=2.7->matplotlib~=3.0->gradio) (1.16.0)\n",
            "Requirement already satisfied: markdown-it-py>=2.2.0 in /usr/local/lib/python3.10/dist-packages (from rich>=10.11.0->typer<1.0,>=0.12->gradio) (3.0.0)\n",
            "Requirement already satisfied: pygments<3.0.0,>=2.13.0 in /usr/local/lib/python3.10/dist-packages (from rich>=10.11.0->typer<1.0,>=0.12->gradio) (2.16.1)\n",
            "Requirement already satisfied: exceptiongroup in /usr/local/lib/python3.10/dist-packages (from anyio->httpx>=0.24.1->gradio) (1.2.1)\n",
            "Requirement already satisfied: charset-normalizer<4,>=2 in /usr/local/lib/python3.10/dist-packages (from requests->huggingface-hub>=0.19.3->gradio) (3.3.2)\n",
            "Requirement already satisfied: mdurl~=0.1 in /usr/local/lib/python3.10/dist-packages (from markdown-it-py>=2.2.0->rich>=10.11.0->typer<1.0,>=0.12->gradio) (0.1.2)\n",
            "Building wheels for collected packages: ffmpy\n",
            "  Building wheel for ffmpy (setup.py) ... \u001b[?25l\u001b[?25hdone\n",
            "  Created wheel for ffmpy: filename=ffmpy-0.3.2-py3-none-any.whl size=5584 sha256=1a518e312d65bf1a6173b1b3b5d3ee798f5c2b2868ef9e2954bfdf2687f0be6e\n",
            "  Stored in directory: /root/.cache/pip/wheels/bd/65/9a/671fc6dcde07d4418df0c592f8df512b26d7a0029c2a23dd81\n",
            "Successfully built ffmpy\n",
            "Installing collected packages: pydub, ffmpy, websockets, tomlkit, shellingham, semantic-version, ruff, python-multipart, orjson, h11, aiofiles, uvicorn, starlette, httpcore, typer, httpx, fastapi, gradio-client, gradio\n",
            "  Attempting uninstall: typer\n",
            "    Found existing installation: typer 0.9.4\n",
            "    Uninstalling typer-0.9.4:\n",
            "      Successfully uninstalled typer-0.9.4\n",
            "\u001b[31mERROR: pip's dependency resolver does not currently take into account all the packages that are installed. This behaviour is the source of the following dependency conflicts.\n",
            "spacy 3.7.4 requires typer<0.10.0,>=0.3.0, but you have typer 0.12.3 which is incompatible.\n",
            "weasel 0.3.4 requires typer<0.10.0,>=0.3.0, but you have typer 0.12.3 which is incompatible.\u001b[0m\u001b[31m\n",
            "\u001b[0mSuccessfully installed aiofiles-23.2.1 fastapi-0.110.3 ffmpy-0.3.2 gradio-4.28.3 gradio-client-0.16.0 h11-0.14.0 httpcore-1.0.5 httpx-0.27.0 orjson-3.10.1 pydub-0.25.1 python-multipart-0.0.9 ruff-0.4.2 semantic-version-2.10.0 shellingham-1.5.4 starlette-0.37.2 tomlkit-0.12.0 typer-0.12.3 uvicorn-0.29.0 websockets-11.0.3\n"
          ]
        }
      ]
    },
    {
      "cell_type": "code",
      "source": [
        "import gradio as gr\n",
        "\n",
        "# define a function\n",
        "def greet(name, intensity):\n",
        "    return \"Hello, \" + name + \"!\" * int(intensity)\n",
        "\n",
        "demo = gr.Interface(\n",
        "    fn=greet, # This is the function name\n",
        "    inputs=[\"text\", \"slider\"],\n",
        "    outputs=[\"text\"],\n",
        ")\n",
        "\n",
        "demo.launch()"
      ],
      "metadata": {
        "id": "lrwoSIch9kZn",
        "outputId": "201ceacb-5219-459b-9691-0dce65930bd5",
        "colab": {
          "base_uri": "https://localhost:8080/",
          "height": 629
        }
      },
      "execution_count": 26,
      "outputs": [
        {
          "output_type": "stream",
          "name": "stdout",
          "text": [
            "Setting queue=True in a Colab notebook requires sharing enabled. Setting `share=True` (you can turn this off by setting `share=False` in `launch()` explicitly).\n",
            "\n",
            "Colab notebook detected. To show errors in colab notebook, set debug=True in launch()\n",
            "Running on public URL: https://7ed35e62e58abb4abf.gradio.live\n",
            "\n",
            "This share link expires in 72 hours. For free permanent hosting and GPU upgrades, run `gradio deploy` from Terminal to deploy to Spaces (https://huggingface.co/spaces)\n"
          ]
        },
        {
          "output_type": "display_data",
          "data": {
            "text/plain": [
              "<IPython.core.display.HTML object>"
            ],
            "text/html": [
              "<div><iframe src=\"https://7ed35e62e58abb4abf.gradio.live\" width=\"100%\" height=\"500\" allow=\"autoplay; camera; microphone; clipboard-read; clipboard-write;\" frameborder=\"0\" allowfullscreen></iframe></div>"
            ]
          },
          "metadata": {}
        },
        {
          "output_type": "execute_result",
          "data": {
            "text/plain": []
          },
          "metadata": {},
          "execution_count": 26
        }
      ]
    },
    {
      "cell_type": "code",
      "source": [
        "import gradio as gr\n",
        "\n",
        "# Define function yesno()\n",
        "\n",
        "def yesno(sentence):\n",
        "    sentence = sentence.rstrip('.')\n",
        "    words = sentence.split()\n",
        "    be_verbs = ['is', 'are', 'am', 'was', 'were']\n",
        "\n",
        "    for i, word in enumerate(words):\n",
        "        if word in be_verbs and i != 0:\n",
        "            subject = words[0].lower()\n",
        "            verb = words[i]\n",
        "            remaining = words[1:i] + words[i+1:]\n",
        "            question = f\"{verb.capitalize()} {subject} \" + \" \".join(remaining).strip() + \"?\"\n",
        "            return question\n",
        "\n",
        "    return \"Not a simple 'be' verb sentence, already a question, or 'be' verb is the first word.\"\n",
        "\n",
        "# The following is Gradio interface code\n",
        "\n",
        "iface = gr.Interface(\n",
        "    fn=yesno,\n",
        "    inputs=gr.Textbox(lines=2, placeholder=\"Enter a sentence\"),\n",
        "    outputs=\"text\",\n",
        "    title=\"Yes-No Question Converter (with be-verb only)\",\n",
        "    description=\"Enter a sentence and this app will convert it into a yes-no question.\"\n",
        ")\n",
        "\n",
        "iface.launch()\n"
      ],
      "metadata": {
        "id": "XkDCRhqNaqOE",
        "outputId": "8892e4b6-260c-40c0-fe3b-12fb4ab3c0f4",
        "colab": {
          "base_uri": "https://localhost:8080/",
          "height": 393
        }
      },
      "execution_count": null,
      "outputs": [
        {
          "output_type": "error",
          "ename": "ModuleNotFoundError",
          "evalue": "No module named 'gradio'",
          "traceback": [
            "\u001b[0;31m---------------------------------------------------------------------------\u001b[0m",
            "\u001b[0;31mModuleNotFoundError\u001b[0m                       Traceback (most recent call last)",
            "\u001b[0;32m<ipython-input-7-682f22fd3fc3>\u001b[0m in \u001b[0;36m<cell line: 1>\u001b[0;34m()\u001b[0m\n\u001b[0;32m----> 1\u001b[0;31m \u001b[0;32mimport\u001b[0m \u001b[0mgradio\u001b[0m \u001b[0;32mas\u001b[0m \u001b[0mgr\u001b[0m\u001b[0;34m\u001b[0m\u001b[0;34m\u001b[0m\u001b[0m\n\u001b[0m\u001b[1;32m      2\u001b[0m \u001b[0;34m\u001b[0m\u001b[0m\n\u001b[1;32m      3\u001b[0m \u001b[0;32mdef\u001b[0m \u001b[0myesno\u001b[0m\u001b[0;34m(\u001b[0m\u001b[0msentence\u001b[0m\u001b[0;34m)\u001b[0m\u001b[0;34m:\u001b[0m\u001b[0;34m\u001b[0m\u001b[0;34m\u001b[0m\u001b[0m\n\u001b[1;32m      4\u001b[0m     \u001b[0msentence\u001b[0m \u001b[0;34m=\u001b[0m \u001b[0msentence\u001b[0m\u001b[0;34m.\u001b[0m\u001b[0mrstrip\u001b[0m\u001b[0;34m(\u001b[0m\u001b[0;34m'.'\u001b[0m\u001b[0;34m)\u001b[0m\u001b[0;34m\u001b[0m\u001b[0;34m\u001b[0m\u001b[0m\n\u001b[1;32m      5\u001b[0m     \u001b[0mwords\u001b[0m \u001b[0;34m=\u001b[0m \u001b[0msentence\u001b[0m\u001b[0;34m.\u001b[0m\u001b[0msplit\u001b[0m\u001b[0;34m(\u001b[0m\u001b[0;34m)\u001b[0m\u001b[0;34m\u001b[0m\u001b[0;34m\u001b[0m\u001b[0m\n",
            "\u001b[0;31mModuleNotFoundError\u001b[0m: No module named 'gradio'",
            "",
            "\u001b[0;31m---------------------------------------------------------------------------\u001b[0;32m\nNOTE: If your import is failing due to a missing package, you can\nmanually install dependencies using either !pip or !apt.\n\nTo view examples of installing some common dependencies, click the\n\"Open Examples\" button below.\n\u001b[0;31m---------------------------------------------------------------------------\u001b[0m\n"
          ],
          "errorDetails": {
            "actions": [
              {
                "action": "open_url",
                "actionText": "Open Examples",
                "url": "/notebooks/snippets/importing_libraries.ipynb"
              }
            ]
          }
        }
      ]
    },
    {
      "cell_type": "code",
      "source": [
        "# Install multiple libraries\n",
        "\n",
        "!pip install gtts gradio"
      ],
      "metadata": {
        "id": "35WqtLTvb1Ep"
      },
      "execution_count": null,
      "outputs": []
    },
    {
      "cell_type": "code",
      "source": [
        "#@markdown Yes-No converter app (using Gradio)\n",
        "import gradio as gr\n",
        "from gtts import gTTS\n",
        "import os\n",
        "\n",
        "def yesno_with_audio(sentence):\n",
        "    # Your existing yesno function\n",
        "    def yesno(sentence):\n",
        "        sentence = sentence.rstrip('.')\n",
        "        words = sentence.split()\n",
        "        be_verbs = ['is', 'are', 'am', 'was', 'were']\n",
        "\n",
        "        for i, word in enumerate(words):\n",
        "            if word in be_verbs and i != 0:\n",
        "                subject = words[0].lower()\n",
        "                verb = words[i]\n",
        "                remaining = words[1:i] + words[i+1:]\n",
        "                question = f\"{verb.capitalize()} {subject} \" + \" \".join(remaining).strip() + \"?\"\n",
        "                return question\n",
        "\n",
        "        return \"Not a simple 'be' verb sentence, already a question, or 'be' verb is the first word.\"\n",
        "\n",
        "    # Generate the yes-no question\n",
        "    question = yesno(sentence)\n",
        "\n",
        "    # Generate audio from the question\n",
        "    tts = gTTS(question, lang='en')\n",
        "    audio_file = 'output_audio.mp3'\n",
        "    tts.save(audio_file)\n",
        "\n",
        "    return question, audio_file\n",
        "\n",
        "iface = gr.Interface(\n",
        "    fn=yesno_with_audio,\n",
        "    inputs=gr.Textbox(lines=2, placeholder=\"Enter a sentence\"),\n",
        "    outputs=[\"text\", \"audio\"],\n",
        "    title=\"Yes-No Question Generator with Audio\",\n",
        "    description=\"Enter a sentence and this app will convert it into a yes-no question and read it aloud.\"\n",
        ")\n",
        "\n",
        "iface.launch()\n"
      ],
      "metadata": {
        "cellView": "form",
        "id": "PvmI4XQ2bSkY",
        "outputId": "4b2e1e71-5bd9-4dbf-a6a3-0fa68b1140e3",
        "colab": {
          "base_uri": "https://localhost:8080/",
          "height": 625
        }
      },
      "execution_count": null,
      "outputs": [
        {
          "output_type": "stream",
          "name": "stdout",
          "text": [
            "Setting queue=True in a Colab notebook requires sharing enabled. Setting `share=True` (you can turn this off by setting `share=False` in `launch()` explicitly).\n",
            "\n",
            "Colab notebook detected. To show errors in colab notebook, set debug=True in launch()\n",
            "Running on public URL: https://3af9eb3ce87a19ead2.gradio.live\n",
            "\n",
            "This share link expires in 72 hours. For free permanent hosting and GPU upgrades, run `gradio deploy` from Terminal to deploy to Spaces (https://huggingface.co/spaces)\n"
          ]
        },
        {
          "output_type": "display_data",
          "data": {
            "text/plain": [
              "<IPython.core.display.HTML object>"
            ],
            "text/html": [
              "<div><iframe src=\"https://3af9eb3ce87a19ead2.gradio.live\" width=\"100%\" height=\"500\" allow=\"autoplay; camera; microphone; clipboard-read; clipboard-write;\" frameborder=\"0\" allowfullscreen></iframe></div>"
            ]
          },
          "metadata": {}
        },
        {
          "output_type": "execute_result",
          "data": {
            "text/plain": []
          },
          "metadata": {},
          "execution_count": 23
        }
      ]
    },
    {
      "cell_type": "markdown",
      "source": [
        "# ⏰ Todo:"
      ],
      "metadata": {
        "id": "9D7U7633g0S_"
      }
    },
    {
      "cell_type": "markdown",
      "source": [
        "Review Python basics [Coding4ET Lesson 3](https://github.com/MK316/Coding4ET/blob/main/README.md)"
      ],
      "metadata": {
        "id": "mSpge9tenu6I"
      }
    },
    {
      "cell_type": "markdown",
      "source": [
        "\n",
        "\n",
        "---\n",
        "# The End\n"
      ],
      "metadata": {
        "id": "3cZjH9xIiN4_"
      }
    }
  ]
}