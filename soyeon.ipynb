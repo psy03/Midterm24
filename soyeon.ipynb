{
  "nbformat": 4,
  "nbformat_minor": 0,
  "metadata": {
    "colab": {
      "provenance": [],
      "authorship_tag": "ABX9TyPg5jH5sFJJScdnoEGgkJlx",
      "include_colab_link": true
    },
    "kernelspec": {
      "name": "python3",
      "display_name": "Python 3"
    },
    "language_info": {
      "name": "python"
    }
  },
  "cells": [
    {
      "cell_type": "markdown",
      "metadata": {
        "id": "view-in-github",
        "colab_type": "text"
      },
      "source": [
        "<a href=\"https://colab.research.google.com/github/psy03/Midterm24/blob/main/soyeon.ipynb\" target=\"_parent\"><img src=\"https://colab.research.google.com/assets/colab-badge.svg\" alt=\"Open In Colab\"/></a>"
      ]
    },
    {
      "cell_type": "code",
      "execution_count": 1,
      "metadata": {
        "colab": {
          "base_uri": "https://localhost:8080/"
        },
        "id": "EHcOuzmF9b0M",
        "outputId": "16b9737d-c31a-4a70-c322-8d158137ca63"
      },
      "outputs": [
        {
          "output_type": "stream",
          "name": "stdout",
          "text": [
            "hello, tom!\n"
          ]
        }
      ],
      "source": [
        "print (\"hello, tom!\")"
      ]
    },
    {
      "cell_type": "code",
      "source": [
        "x= 5\n",
        "y= \"Hello, world!\"\n",
        "print(x,y)\n",
        "print(x)\n",
        "print(y)"
      ],
      "metadata": {
        "colab": {
          "base_uri": "https://localhost:8080/"
        },
        "id": "Gtpzic0wDWoS",
        "outputId": "4be03f35-52ac-4973-8293-e960d63b441d"
      },
      "execution_count": 3,
      "outputs": [
        {
          "output_type": "stream",
          "name": "stdout",
          "text": [
            "5 Hello, world!\n",
            "5\n",
            "Hello, world!\n"
          ]
        }
      ]
    },
    {
      "cell_type": "code",
      "source": [
        "a=5\n",
        "b=40\n",
        "c=a*b\n",
        "print(c)"
      ],
      "metadata": {
        "colab": {
          "base_uri": "https://localhost:8080/"
        },
        "id": "rmTlwbauDpxv",
        "outputId": "24b1905f-a1c6-40b9-9edc-d6cd6654c45b"
      },
      "execution_count": 4,
      "outputs": [
        {
          "output_type": "stream",
          "name": "stdout",
          "text": [
            "200\n"
          ]
        }
      ]
    },
    {
      "cell_type": "code",
      "source": [
        "# Cell 1: Creating Variables\n",
        "name = \"John Doe\"\n",
        "age = 30\n",
        "height = 5.9\n",
        "is_student = False"
      ],
      "metadata": {
        "id": "oSfgyxZ0D5eD"
      },
      "execution_count": 5,
      "outputs": []
    },
    {
      "cell_type": "code",
      "source": [
        "# Cell 2: Working with Variables\n",
        "print(f\"Name: {name}\")\n",
        "print(f\"Age: {age}\")\n",
        "print(f\"Height: {height} feet\")\n",
        "print(f\"Is a student: {is_student}\")"
      ],
      "metadata": {
        "colab": {
          "base_uri": "https://localhost:8080/"
        },
        "id": "CmUJurzgD5Yu",
        "outputId": "505a88b5-3622-465d-ab69-c61837b2b085"
      },
      "execution_count": 6,
      "outputs": [
        {
          "output_type": "stream",
          "name": "stdout",
          "text": [
            "Name: John Doe\n",
            "Age: 30\n",
            "Height: 5.9 feet\n",
            "Is a student: False\n"
          ]
        }
      ]
    },
    {
      "cell_type": "code",
      "source": [
        "# Cell 3: Changing Variable Value\n",
        "age = 31\n",
        "print(f\"Updated Age: {age}\")"
      ],
      "metadata": {
        "colab": {
          "base_uri": "https://localhost:8080/"
        },
        "id": "tfXERD1-EZHV",
        "outputId": "5ffd30d9-175c-437b-9f3b-83136b4d7a74"
      },
      "execution_count": 12,
      "outputs": [
        {
          "output_type": "stream",
          "name": "stdout",
          "text": [
            "Updated Age: 31\n"
          ]
        }
      ]
    },
    {
      "cell_type": "code",
      "source": [
        "def function_name(parameters):\n",
        "    # code to execute\n",
        "    return result  # optional #it's syntax"
      ],
      "metadata": {
        "id": "II4i6qteFyQC"
      },
      "execution_count": 13,
      "outputs": []
    },
    {
      "cell_type": "code",
      "source": [
        "def greet(name):\n",
        "    return f\"Hello, {name}!\"\n",
        "\n",
        "message = greet(\"Alice\")\n",
        "print(message) #It's Example of a Function"
      ],
      "metadata": {
        "colab": {
          "base_uri": "https://localhost:8080/"
        },
        "id": "NYFVkYw_FO2G",
        "outputId": "fe39d88a-abfb-4217-90eb-911f56712121"
      },
      "execution_count": 11,
      "outputs": [
        {
          "output_type": "stream",
          "name": "stdout",
          "text": [
            "Hello, Alice!\n"
          ]
        }
      ]
    },
    {
      "cell_type": "code",
      "source": [
        "def greet(name):\n",
        "    return f\"Hello, {name}!\"\n",
        "\n",
        "message = greet(\"Soyeon\")\n",
        "print(message)"
      ],
      "metadata": {
        "colab": {
          "base_uri": "https://localhost:8080/"
        },
        "id": "nP19yn67GE18",
        "outputId": "0c31addb-f48e-4e95-ef2a-166ce93bdb08"
      },
      "execution_count": 14,
      "outputs": [
        {
          "output_type": "stream",
          "name": "stdout",
          "text": [
            "Hello, Soyeon!\n"
          ]
        }
      ]
    },
    {
      "cell_type": "code",
      "source": [
        "greet(\"Bob\")"
      ],
      "metadata": {
        "colab": {
          "base_uri": "https://localhost:8080/",
          "height": 35
        },
        "id": "Bqm0_kcwHb8D",
        "outputId": "5fe92705-a8cf-44da-a8d1-8672f833e252"
      },
      "execution_count": 15,
      "outputs": [
        {
          "output_type": "execute_result",
          "data": {
            "text/plain": [
              "'Hello, Bob!'"
            ],
            "application/vnd.google.colaboratory.intrinsic+json": {
              "type": "string"
            }
          },
          "metadata": {},
          "execution_count": 15
        }
      ]
    },
    {
      "cell_type": "code",
      "source": [
        "def add_numbers(number1, number2):\n",
        "    sum = number1 + number2\n",
        "    return sum\n",
        "\n",
        "# Using the function\n",
        "result = add_numbers(10, 15)\n",
        "print(\"The sum is:\", result)"
      ],
      "metadata": {
        "colab": {
          "base_uri": "https://localhost:8080/"
        },
        "id": "x0qR7N9JIGbG",
        "outputId": "8e1bc83c-4216-4bb2-b57c-65c90ea5f984"
      },
      "execution_count": 16,
      "outputs": [
        {
          "output_type": "stream",
          "name": "stdout",
          "text": [
            "The sum is: 25\n"
          ]
        }
      ]
    },
    {
      "cell_type": "code",
      "source": [
        "# Generate a random number between 1 and 10\n",
        "import random\n",
        "\n",
        "random_number = random.randint(1, 10)\n",
        "\n",
        "print(\"The random number is:\", random_number)"
      ],
      "metadata": {
        "colab": {
          "base_uri": "https://localhost:8080/"
        },
        "id": "exVxWrpXIhKZ",
        "outputId": "b8e34e71-008a-4e43-ec86-52ace58cfce2"
      },
      "execution_count": 18,
      "outputs": [
        {
          "output_type": "stream",
          "name": "stdout",
          "text": [
            "The random number is: 8\n"
          ]
        }
      ]
    },
    {
      "cell_type": "code",
      "source": [
        "# Code 1\n",
        "\n",
        "random_number = random.randint(1, 10)\n",
        "\n",
        "random_number\n",
        "#Code 1: random_number 변수에 할당된 난수를 출력하지 않고 있습니다.\n",
        "#따라서 변수에 저장된 값은 출력되지 않습니다."
      ],
      "metadata": {
        "colab": {
          "base_uri": "https://localhost:8080/"
        },
        "id": "km0D7tRbPG3T",
        "outputId": "8cb1aabb-b502-4f9f-db8c-d6f5c2910656"
      },
      "execution_count": 19,
      "outputs": [
        {
          "output_type": "execute_result",
          "data": {
            "text/plain": [
              "5"
            ]
          },
          "metadata": {},
          "execution_count": 19
        }
      ]
    },
    {
      "cell_type": "code",
      "source": [
        "# Code 2\n",
        "\n",
        "random_number = random.randint(1, 10)\n",
        "\n",
        "random_number\n",
        "print(random_number)\n",
        "#Code 2: random_number 변수에 할당된 난수를 출력하지 않고 있습니다.\n",
        "#대신 print(random_number)를 사용하여 값을 출력하고 있습니다."
      ],
      "metadata": {
        "colab": {
          "base_uri": "https://localhost:8080/"
        },
        "id": "I-Ypt_mLPKns",
        "outputId": "c289b434-e553-4370-a07d-5e7a404ae141"
      },
      "execution_count": 20,
      "outputs": [
        {
          "output_type": "stream",
          "name": "stdout",
          "text": [
            "7\n"
          ]
        }
      ]
    },
    {
      "cell_type": "code",
      "source": [
        "# Code 3\n",
        "\n",
        "random_number = random.randint(1, 10)\n",
        "\n",
        "print(random_number)\n",
        "random_number\n",
        "#Code 3: random_number 변수에 할당된 난수를 print(random_number)로 출력하고 있습니다.\n",
        "#그 후에도 변수 이름만을 통해 변수에 저장된 값을 출력하려고 시도하고 있지만,\n",
        "#대화식 환경에서는 변수 이름만으로는 값을 볼 수 없습니다."
      ],
      "metadata": {
        "colab": {
          "base_uri": "https://localhost:8080/"
        },
        "id": "MQaqOJi8Q4FA",
        "outputId": "3c8db8c6-cb66-483a-d761-1cfea54917c7"
      },
      "execution_count": 22,
      "outputs": [
        {
          "output_type": "stream",
          "name": "stdout",
          "text": [
            "9\n"
          ]
        },
        {
          "output_type": "execute_result",
          "data": {
            "text/plain": [
              "9"
            ]
          },
          "metadata": {},
          "execution_count": 22
        }
      ]
    },
    {
      "cell_type": "code",
      "source": [
        "# Code 4\n",
        "\n",
        "random_number = random.randint(1, 10)\n",
        "\n",
        "print(\"random_number:\", random_number)\n",
        "#Code 4: random_number 변수에 할당된 난수를 \"random_number:\"와 함께 출력하고 있습니다."
      ],
      "metadata": {
        "colab": {
          "base_uri": "https://localhost:8080/"
        },
        "id": "QdWGTGOwQ8is",
        "outputId": "8935c27e-f71d-44b0-a77d-04ca2a1e1d46"
      },
      "execution_count": 23,
      "outputs": [
        {
          "output_type": "stream",
          "name": "stdout",
          "text": [
            "random_number: 2\n"
          ]
        }
      ]
    },
    {
      "cell_type": "code",
      "source": [
        "# Code 5\n",
        "\n",
        "random_number = random.randint(1, 10)\n",
        "\n",
        "print(\"The random number is: \", random_number)\n",
        "#Code 5: random_number 변수에 할당된 난수를 \"The random number is:\"와 함께 출력하고 있습니다."
      ],
      "metadata": {
        "colab": {
          "base_uri": "https://localhost:8080/"
        },
        "id": "zlom56z1RpRn",
        "outputId": "4a8496f7-cb5e-466d-9dac-7bf114f6d196"
      },
      "execution_count": 24,
      "outputs": [
        {
          "output_type": "stream",
          "name": "stdout",
          "text": [
            "The random number is:  8\n"
          ]
        }
      ]
    },
    {
      "cell_type": "markdown",
      "source": [
        "1. Number\n",
        "- Integers (int): Whole numbers like 3, 100, -1.\n",
        "- Floating-point numbers (float): Numbers with a decimal point like 2.3, -0.1, 3.14.\n",
        "- Complex numbers (complex): Numbers with a real and imaginary part, e.g., 3 + 4j."
      ],
      "metadata": {
        "id": "W3xMi_nnZTiO"
      }
    },
    {
      "cell_type": "code",
      "source": [
        "#Integer #Integers (int): Whole numbers like 3, 100, -1.\n",
        "# An example of an integer\n",
        "age = 25\n",
        "print(\"Age:\", age)"
      ],
      "metadata": {
        "colab": {
          "base_uri": "https://localhost:8080/"
        },
        "id": "n9d6JCAVWDE-",
        "outputId": "8fb4e4f2-3721-4953-d8d5-c59814ca5ba3"
      },
      "execution_count": 25,
      "outputs": [
        {
          "output_type": "stream",
          "name": "stdout",
          "text": [
            "Age: 25\n"
          ]
        }
      ]
    },
    {
      "cell_type": "code",
      "source": [
        "#Float #Floating-point numbers (float): Numbers with a decimal point like 2.3, -0.1, 3.14.\n",
        "# An example of a float\n",
        "average_score = 82.5\n",
        "print(\"Average Score:\", average_score)"
      ],
      "metadata": {
        "colab": {
          "base_uri": "https://localhost:8080/"
        },
        "id": "15dFv5urWN34",
        "outputId": "06f5f04c-3507-42ff-a2cb-8cb5b55b766d"
      },
      "execution_count": 26,
      "outputs": [
        {
          "output_type": "stream",
          "name": "stdout",
          "text": [
            "Average Score: 82.5\n"
          ]
        }
      ]
    },
    {
      "cell_type": "markdown",
      "source": [
        "2. string\n",
        "- Textual data enclosed in single ('text'), double (\"text\"), or triple quotes ('''text is ...''' or \"\"\"text is ...\"\"\"). For example, \"Hello\", 'Python'."
      ],
      "metadata": {
        "id": "2vgAuZDxZX-K"
      }
    },
    {
      "cell_type": "code",
      "source": [
        "# An example of a string\n",
        "name = input()  # A pop-up box will appear and wait for your input. Type a name.\n",
        "print(\"Hello, %s!\"%name)  # % operator: The % operator is used for string formatting. It links the string \"Hello, %s!\" with the variable name to replace the %s placeholder."
      ],
      "metadata": {
        "colab": {
          "base_uri": "https://localhost:8080/"
        },
        "id": "YdvxFv65XLeS",
        "outputId": "3497f334-6487-4d6d-e5d4-d61879f0c025"
      },
      "execution_count": 27,
      "outputs": [
        {
          "output_type": "stream",
          "name": "stdout",
          "text": [
            "soyeon\n",
            "Hello, soyeon!\n"
          ]
        }
      ]
    },
    {
      "cell_type": "code",
      "source": [
        "# An example of a string\n",
        "name = input()  # A pop-up box will appear and wait for your input. Type a name.\n",
        "print(f\"Hello, {name}!\")"
      ],
      "metadata": {
        "colab": {
          "base_uri": "https://localhost:8080/"
        },
        "id": "IkvUcdElaDPd",
        "outputId": "7bf85300-e5d5-4b9e-ec09-7714d8eaa156"
      },
      "execution_count": 30,
      "outputs": [
        {
          "output_type": "stream",
          "name": "stdout",
          "text": [
            "soyeon\n",
            "Hello, soyeon!\n"
          ]
        }
      ]
    },
    {
      "cell_type": "code",
      "source": [
        "mytext = \"\"\"\n",
        "Long long time ago, there lived a lion called Lezzi.\n",
        "One day, ....\n",
        "\"\"\"\n",
        "print(mytext)"
      ],
      "metadata": {
        "colab": {
          "base_uri": "https://localhost:8080/"
        },
        "id": "NlkbDNKjairn",
        "outputId": "247aec14-2173-4acc-fdac-4bfdd13fbee4"
      },
      "execution_count": 31,
      "outputs": [
        {
          "output_type": "stream",
          "name": "stdout",
          "text": [
            "\n",
            "Long long time ago, there lived a lion called Lezzi.\n",
            "One day, ....\n",
            "\n"
          ]
        }
      ]
    },
    {
      "cell_type": "markdown",
      "source": [
        "3.List (list):\n",
        "- An ordered, mutable (changeable) collection of items. Lists are defined with square brackets, e.g., [1, 2, 3] or ['apple', 'banana', 'cherry']."
      ],
      "metadata": {
        "id": "UymIlbrCa9rL"
      }
    },
    {
      "cell_type": "code",
      "source": [
        "# An example of a list\n",
        "favorite_books = [\"To Kill a Mockingbird\", \"1984\", \"The Great Gatsby\"]\n",
        "print(\"Favorite Books:\", favorite_books)"
      ],
      "metadata": {
        "colab": {
          "base_uri": "https://localhost:8080/"
        },
        "id": "2h9OQhMsbDNW",
        "outputId": "7bf1c7a3-d7d1-4749-a6b5-d0fb6750c1f1"
      },
      "execution_count": 32,
      "outputs": [
        {
          "output_type": "stream",
          "name": "stdout",
          "text": [
            "Favorite Books: ['To Kill a Mockingbird', '1984', 'The Great Gatsby']\n"
          ]
        }
      ]
    },
    {
      "cell_type": "markdown",
      "source": [
        "4. Dictionary (dict):\n",
        "- A collection of key-value pairs. Dictionaries are defined with curly braces containing key-value pairs separated by colons, e.g., {'name': 'Alice', 'age': 25}."
      ],
      "metadata": {
        "id": "EtX1FpC3bMfE"
      }
    },
    {
      "cell_type": "code",
      "source": [
        "# An example of a dictionary\n",
        "student_grades = {\"Alice\": 90, \"Bob\": 85, \"Charlie\": 95}\n",
        "print(\"Student Grades:\", student_grades)"
      ],
      "metadata": {
        "colab": {
          "base_uri": "https://localhost:8080/"
        },
        "id": "Og9k8-jRbSyv",
        "outputId": "d67c82f9-1cb7-469e-b395-69dac6ac4450"
      },
      "execution_count": 33,
      "outputs": [
        {
          "output_type": "stream",
          "name": "stdout",
          "text": [
            "Student Grades: {'Alice': 90, 'Bob': 85, 'Charlie': 95}\n"
          ]
        }
      ]
    },
    {
      "cell_type": "code",
      "source": [
        "# Return Alice's grade\n",
        "student_grades['Alice']"
      ],
      "metadata": {
        "colab": {
          "base_uri": "https://localhost:8080/"
        },
        "id": "XAxj0ztlbZ81",
        "outputId": "56698852-b8df-4c1c-deac-263b118d0f83"
      },
      "execution_count": 34,
      "outputs": [
        {
          "output_type": "execute_result",
          "data": {
            "text/plain": [
              "90"
            ]
          },
          "metadata": {},
          "execution_count": 34
        }
      ]
    },
    {
      "cell_type": "markdown",
      "source": [
        "5. Tuple (tuple):\n",
        "- An ordered, immutable collection of items. Tuples are defined with parentheses, e.g., (1, 2, 3) or ('a', 'b', 'c')"
      ],
      "metadata": {
        "id": "5NgWWDFDbhXi"
      }
    },
    {
      "cell_type": "code",
      "source": [
        "# An example of a tuple\n",
        "months_of_the_year = (\"January\", \"February\", \"March\", \"April\")\n",
        "print(\"Months of the Year:\", months_of_the_year)"
      ],
      "metadata": {
        "colab": {
          "base_uri": "https://localhost:8080/"
        },
        "id": "OyWxDGWzblZq",
        "outputId": "bc10df64-23be-49bb-9ac6-8eb01ae0d567"
      },
      "execution_count": 35,
      "outputs": [
        {
          "output_type": "stream",
          "name": "stdout",
          "text": [
            "Months of the Year: ('January', 'February', 'March', 'April')\n"
          ]
        }
      ]
    },
    {
      "cell_type": "markdown",
      "source": [
        "6. Boolean (bool):\n",
        "- Represents truth values. The two boolean values are True and False.\n",
        "\n",
        "7. Set (set):\n",
        "- An unordered collection of unique items. Sets are defined with curly braces, e.g., {1, 2, 3} or {'apple', 'banana', 'cherry'}. Note that sets do not allow duplicate elements.\n",
        "\n",
        "8. NoneType (None):\n",
        "- A special type representing the absence of a value or a null value.\n",
        "\n",
        "Each data type serves a specific purpose and can be used in different scenarios in Python programming. For instance, lists and tuples are great for storing ordered collections of items, dictionaries are ideal for storing related data as key-value pairs, and sets are useful for storing unique items and performing set operations."
      ],
      "metadata": {
        "id": "HSQaRV0rb0Qf"
      }
    }
  ]
}