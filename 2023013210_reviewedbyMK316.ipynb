{
  "nbformat": 4,
  "nbformat_minor": 0,
  "metadata": {
    "colab": {
      "provenance": [],
      "include_colab_link": true
    },
    "kernelspec": {
      "name": "python3",
      "display_name": "Python 3"
    },
    "language_info": {
      "name": "python"
    }
  },
  "cells": [
    {
      "cell_type": "markdown",
      "metadata": {
        "id": "view-in-github",
        "colab_type": "text"
      },
      "source": [
        "<a href=\"https://colab.research.google.com/github/psy03/Midterm24/blob/main/2023013210_reviewedbyMK316.ipynb\" target=\"_parent\"><img src=\"https://colab.research.google.com/assets/colab-badge.svg\" alt=\"Open In Colab\"/></a>"
      ]
    },
    {
      "cell_type": "markdown",
      "source": [
        "\n",
        "Midterm 2024: Park Soyeon\n",
        "```\n",
        "# 코드로 형식 지정됨\n",
        "```\n",
        "\n",
        "(Reviewed by MK316)\n",
        "\n"
      ],
      "metadata": {
        "id": "-OwrvDTOZ0U4"
      }
    },
    {
      "cell_type": "code",
      "source": [
        "print('5'+'7')"
      ],
      "metadata": {
        "colab": {
          "base_uri": "https://localhost:8080/"
        },
        "id": "Nny_2VXWaMeP",
        "outputId": "00677061-99d5-4c70-baf5-e2d36d4014af"
      },
      "execution_count": null,
      "outputs": [
        {
          "output_type": "stream",
          "name": "stdout",
          "text": [
            "57\n"
          ]
        }
      ]
    },
    {
      "cell_type": "code",
      "source": [
        "print('5'*3+'7')"
      ],
      "metadata": {
        "colab": {
          "base_uri": "https://localhost:8080/"
        },
        "id": "r_SKH8vEbLsN",
        "outputId": "7f722be2-6898-4ed8-d05a-3b151b26e209"
      },
      "execution_count": null,
      "outputs": [
        {
          "output_type": "stream",
          "name": "stdout",
          "text": [
            "5557\n"
          ]
        }
      ]
    },
    {
      "cell_type": "code",
      "source": [
        "num=5+3.2\n",
        "print(num)"
      ],
      "metadata": {
        "colab": {
          "base_uri": "https://localhost:8080/"
        },
        "id": "JkFu0OAqbSk9",
        "outputId": "f82791fe-8719-4160-fd34-358c73323b1b"
      },
      "execution_count": null,
      "outputs": [
        {
          "output_type": "stream",
          "name": "stdout",
          "text": [
            "8.2\n"
          ]
        }
      ]
    },
    {
      "cell_type": "markdown",
      "source": [
        "##Variable Question (😅Nice try! But check my code to compare.): 1/3"
      ],
      "metadata": {
        "id": "r8NJF8Lgb6TV"
      }
    },
    {
      "cell_type": "code",
      "source": [
        "def Name=mary,Bornin=1998,Hometown=Ohio\n",
        "\n",
        "print(\"Hello, my name is\",\"Name\")"
      ],
      "metadata": {
        "colab": {
          "base_uri": "https://localhost:8080/",
          "height": 111
        },
        "id": "A3J62qHJgkZi",
        "outputId": "7ad9d7bd-f70a-4e81-ad41-b807243d5d89"
      },
      "execution_count": 1,
      "outputs": [
        {
          "output_type": "error",
          "ename": "SyntaxError",
          "evalue": "invalid syntax (<ipython-input-1-dc15f3a376d6>, line 1)",
          "traceback": [
            "\u001b[0;36m  File \u001b[0;32m\"<ipython-input-1-dc15f3a376d6>\"\u001b[0;36m, line \u001b[0;32m1\u001b[0m\n\u001b[0;31m    def Name=mary,Bornin=1998,Hometown=Ohio\u001b[0m\n\u001b[0m            ^\u001b[0m\n\u001b[0;31mSyntaxError\u001b[0m\u001b[0;31m:\u001b[0m invalid syntax\n"
          ]
        }
      ]
    },
    {
      "cell_type": "markdown",
      "source": [
        "🚩 Suggested code below:"
      ],
      "metadata": {
        "id": "uqP6HzRubGNJ"
      }
    },
    {
      "cell_type": "code",
      "source": [
        "x = input(\"Name: \") #name\n",
        "y = input(\"Born in: \") #born_in\n",
        "z = input(\"Home town: \") #hometown\n",
        "\n",
        "text = f\"Hello, my name is {x} and I was born in {y}. I'm from {z}. Nice to meet you!\"\n",
        "print(text)"
      ],
      "metadata": {
        "id": "B2Az46QPbHW0"
      },
      "execution_count": null,
      "outputs": []
    },
    {
      "cell_type": "markdown",
      "source": [
        "##Name question(😊Good job! But punctuation(spacing) is not properly printed. See my code suggested below.): 2.5/3"
      ],
      "metadata": {
        "id": "MNGLi-y-ghwi"
      }
    },
    {
      "cell_type": "code",
      "source": [
        "#name question\n",
        "x=\"My name is\"\n",
        "y=\"Soyeon\"\n",
        "print(x,y,'.')"
      ],
      "metadata": {
        "colab": {
          "base_uri": "https://localhost:8080/"
        },
        "id": "EIjFHs3-gjuZ",
        "outputId": "6acb14a0-dcb7-4e39-a3c3-c9e7904975a9"
      },
      "execution_count": 2,
      "outputs": [
        {
          "output_type": "stream",
          "name": "stdout",
          "text": [
            "My name is Soyeon .\n"
          ]
        }
      ]
    },
    {
      "cell_type": "markdown",
      "source": [
        "🚩 Suggested code below:"
      ],
      "metadata": {
        "id": "hyhTfpERbbj7"
      }
    },
    {
      "cell_type": "code",
      "source": [
        "x = \"My name is\"\n",
        "y = input(\"Your name: \")\n",
        "\n",
        "print(f\"{x} {y}.\")"
      ],
      "metadata": {
        "id": "X9aqAl6Hbc06"
      },
      "execution_count": null,
      "outputs": []
    },
    {
      "cell_type": "markdown",
      "source": [
        "##Index Question"
      ],
      "metadata": {
        "id": "c_FNvglei5mA"
      }
    },
    {
      "cell_type": "code",
      "source": [],
      "metadata": {
        "id": "FPKYFnAci78A"
      },
      "execution_count": null,
      "outputs": []
    },
    {
      "cell_type": "markdown",
      "source": [
        "##GTTS Question"
      ],
      "metadata": {
        "id": "WKKB95frjmYw"
      }
    },
    {
      "cell_type": "code",
      "source": [],
      "metadata": {
        "id": "MnyUQf8mjoYA"
      },
      "execution_count": null,
      "outputs": []
    },
    {
      "cell_type": "markdown",
      "source": [
        "##Dictionary Question(😏Check my code below): 1/3"
      ],
      "metadata": {
        "id": "e5LEwnp7j2NX"
      }
    },
    {
      "cell_type": "code",
      "source": [
        "grades_dict{'Bob':'80', 'Jack' : '1', 'Joe' : '1'}\n",
        "print(Bob)"
      ],
      "metadata": {
        "colab": {
          "base_uri": "https://localhost:8080/",
          "height": 110
        },
        "id": "PUr_Cx7hj34o",
        "outputId": "0e06ff09-cedc-4d46-fa24-7189e99d051e"
      },
      "execution_count": null,
      "outputs": [
        {
          "output_type": "error",
          "ename": "SyntaxError",
          "evalue": "invalid syntax (<ipython-input-51-4375401ce101>, line 1)",
          "traceback": [
            "\u001b[0;36m  File \u001b[0;32m\"<ipython-input-51-4375401ce101>\"\u001b[0;36m, line \u001b[0;32m1\u001b[0m\n\u001b[0;31m    grades_dict{'Bob':'80', 'Jack' : '1', 'Joe' : '1'}\u001b[0m\n\u001b[0m               ^\u001b[0m\n\u001b[0;31mSyntaxError\u001b[0m\u001b[0;31m:\u001b[0m invalid syntax\n"
          ]
        }
      ]
    },
    {
      "cell_type": "markdown",
      "source": [
        "🚩 Suggested code below:"
      ],
      "metadata": {
        "id": "2ivvR5iUbpow"
      }
    },
    {
      "cell_type": "code",
      "source": [
        "grades = {'Bob':80, 'student1':75, 'student2':90}\n",
        "\n",
        "print(grades['Bob'])"
      ],
      "metadata": {
        "id": "9Nv-Q6Eabqpy"
      },
      "execution_count": null,
      "outputs": []
    },
    {
      "cell_type": "markdown",
      "source": [
        "##Function Question(😍You got it!): 3/3"
      ],
      "metadata": {
        "id": "pJqqiW8Kk7ZW"
      }
    },
    {
      "cell_type": "code",
      "source": [
        "def division(x, y):\n",
        "  return x / y\n",
        "\n",
        "result = division(20,4)\n",
        "print(result )"
      ],
      "metadata": {
        "colab": {
          "base_uri": "https://localhost:8080/"
        },
        "id": "J9sMANEMk9MW",
        "outputId": "ffafca76-c612-4461-8b00-4cf4c770997a"
      },
      "execution_count": 3,
      "outputs": [
        {
          "output_type": "stream",
          "name": "stdout",
          "text": [
            "5.0\n"
          ]
        }
      ]
    },
    {
      "cell_type": "markdown",
      "source": [
        "---\n",
        "The END\n",
        "\n",
        "Coding: 7 points"
      ],
      "metadata": {
        "id": "5O2uUs3ibyXV"
      }
    }
  ]
}